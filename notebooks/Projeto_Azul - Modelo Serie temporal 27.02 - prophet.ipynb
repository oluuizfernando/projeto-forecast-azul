{
 "cells": [
  {
   "cell_type": "markdown",
   "metadata": {},
   "source": [
    "## Importando Bibliotecas e Arquivo."
   ]
  },
  {
   "cell_type": "code",
   "execution_count": 1,
   "metadata": {},
   "outputs": [],
   "source": [
    "#Importando Bibliotecas\n",
    "\n",
    "import pandas as pd\n",
    "import numpy as np\n",
    "import matplotlib.pyplot as plt\n",
    "import pandas_profiling as x\n",
    "import plotly.offline as py\n",
    "import plotly.graph_objs as go\n",
    "import plotly.express as px\n",
    "import datetime as dt\n",
    "import seaborn as sns\n",
    "import scipy as sp\n",
    "import statsmodels.api as sm\n",
    "import patsy as pt\n",
    "from sklearn import metrics\n",
    "from sklearn.model_selection import train_test_split\n",
    "from statsmodels.stats.outliers_influence import variance_inflation_factor\n",
    "from sklearn.linear_model import Ridge\n",
    "from statsmodels.tsa.arima.model import ARIMA\n",
    "from pmdarima.arima import auto_arima\n",
    "from sklearn.ensemble import RandomForestRegressor\n",
    "from sklearn.ensemble import AdaBoostRegressor\n",
    "from sklearn.ensemble import GradientBoostingRegressor\n",
    "from sklearn.preprocessing import OrdinalEncoder\n",
    "from sklearn.preprocessing import LabelEncoder\n",
    "\n",
    "# ---- Cronometrar o tempo do colab\n",
    "import time\n",
    "\n",
    "# ---- Pré-processamento\n",
    "from sklearn.model_selection import train_test_split, cross_val_score, GridSearchCV\n",
    "from sklearn.preprocessing import StandardScaler\n",
    "\n",
    "# ---- Possíveis Modelos utilizados\n",
    "\n",
    "from sklearn.svm import SVR\n",
    "from sklearn.tree import DecisionTreeRegressor\n",
    "from sklearn.linear_model import LinearRegression, Ridge, Lasso, LassoCV, ElasticNet, ElasticNetCV, HuberRegressor, LassoLars, BayesianRidge\n",
    "from sklearn.linear_model import SGDRegressor\n",
    "from sklearn.ensemble import RandomForestRegressor, AdaBoostRegressor, GradientBoostingRegressor, ExtraTreesRegressor\n",
    "\n",
    "# ---- Cálculo das Métricas\n",
    "from sklearn import metrics\n",
    "\n",
    "import statsmodels.formula.api as smf\n",
    "from random import randint\n",
    "\n",
    "from sklearn.model_selection import GridSearchCV\n",
    "\n",
    "from statsmodels.tsa.arima.model import ARIMA\n",
    "from pmdarima.arima import auto_arima\n",
    "from xgboost import XGBRegressor\n",
    "from statsmodels.tsa.seasonal import seasonal_decompose\n",
    "from statsmodels.tsa.stattools import adfuller\n",
    "from statsmodels.tsa.statespace.sarimax import SARIMAX\n",
    "from sklearn.preprocessing import MinMaxScaler\n"
   ]
  },
  {
   "cell_type": "code",
   "execution_count": 2,
   "metadata": {},
   "outputs": [],
   "source": [
    "# !pip3 install prophet"
   ]
  },
  {
   "cell_type": "code",
   "execution_count": 3,
   "metadata": {},
   "outputs": [],
   "source": [
    "import warnings\n",
    "\n",
    "with warnings.catch_warnings():\n",
    "    warnings.filterwarnings(\"ignore\", category=DeprecationWarning)\n",
    "\n",
    "\n",
    "from prophet import Prophet"
   ]
  },
  {
   "cell_type": "code",
   "execution_count": 4,
   "metadata": {},
   "outputs": [
    {
     "name": "stderr",
     "output_type": "stream",
     "text": [
      "C:\\Users\\bruno\\AppData\\Local\\Temp\\ipykernel_31820\\560731038.py:4: DtypeWarning:\n",
      "\n",
      "Columns (4) have mixed types. Specify dtype option on import or set low_memory=False.\n",
      "\n"
     ]
    }
   ],
   "source": [
    "#Importando Dataset\n",
    "df1=pd.read_csv('C:/Users/bruno/OneDrive/Área de Trabalho/Curso Data Expert DNC/AZUL/Amostra DNC titulo.csv')\n",
    "df1=df1.drop(df1.columns[0],axis=1)\n",
    "df2=pd.read_csv('C:/Users/bruno/OneDrive/Área de Trabalho/Curso Data Expert DNC/AZUL/Base_Azul_DNC_Abr22.csv')\n",
    "df=pd.concat([df1,df2])\n",
    "periodo = pd.read_excel('C:/Users/bruno/OneDrive/Área de Trabalho/Curso Data Expert DNC/AZUL/De_Para_Periodo.xlsx')\n",
    "\n",
    "# file = open('C:/Users/bruno/OneDrive/Área de Trabalho/Curso Data Expert DNC/AZUL/Base_Abril_Aug.txt')\n",
    "# df=pd.read_csv('C:/Users/bruno/OneDrive/Área de Trabalho/Curso Data Expert DNC/AZUL/Base_Abril_Aug.txt',sep='\\t')#,chunksize=1000,on_bad_lines='skip')\n",
    "# df=pd.concat(chunck)"
   ]
  },
  {
   "cell_type": "code",
   "execution_count": 5,
   "metadata": {},
   "outputs": [],
   "source": [
    "dt_fake = pd.read_excel(r'C:\\Users\\bruno\\OneDrive\\Área de Trabalho\\Curso Data Expert DNC\\AZUL\\Datas_fakes.xlsx',parse_dates=True)"
   ]
  },
  {
   "cell_type": "code",
   "execution_count": 6,
   "metadata": {},
   "outputs": [],
   "source": [
    "# file = open('C:/Users/bruno/OneDrive/Área de Trabalho/Curso Data Expert DNC/AZUL/Base_Abril_Aug.txt')\n",
    "\n",
    "# df = file.read()\n",
    "# with open('C:/Users/bruno/OneDrive/Área de Trabalho/Curso Data Expert DNC/AZUL/Base_Abril_Aug.txt') as fileobject:\n",
    "#     for line in fileobject:\n",
    "#         do_something_with(line)"
   ]
  },
  {
   "cell_type": "code",
   "execution_count": 7,
   "metadata": {},
   "outputs": [],
   "source": [
    "# df=[]\n",
    "# with open('C:/Users/bruno/OneDrive/Área de Trabalho/Curso Data Expert DNC/AZUL/Base_Abril_Aug.txt') as fileobject:\n",
    "#     for line in fileobject:\n",
    "#         df.append(line)"
   ]
  },
  {
   "cell_type": "code",
   "execution_count": 8,
   "metadata": {},
   "outputs": [],
   "source": [
    "# df"
   ]
  },
  {
   "cell_type": "markdown",
   "metadata": {},
   "source": [
    "## Criando Variaveis"
   ]
  },
  {
   "cell_type": "code",
   "execution_count": 9,
   "metadata": {},
   "outputs": [],
   "source": [
    "#Variavel Faixa horaria - hora cheia extraida do capo DepTime\n",
    "df['faixa_horaria']=(df['DepTime'].astype('str')).str[:2].astype('int')\n",
    "\n",
    "#Variavel Chave - Usada na construção de dataFrames auxiliares\n",
    "df['chave2']=df['Dep Date']+df['Segment']+(df['faixa_horaria'].astype('int')).astype('str')\n",
    "\n",
    "#Calculo dos indicadores RASK e Ocupação\n",
    "df['Rask']=df['Revenue']/df['ASKs']\n",
    "df['Ocupacao']=df['RPKs']/df['ASKs']\n",
    "\n",
    "#Unindo o Periodo com o Data Frame\n",
    "df=pd.merge(df,periodo, on= 'faixa_horaria')\n",
    "\n",
    "\n",
    "# #Calculo das Variaveis bookedday e revenueday, objetivo = mostrar o valor exato vendido em cada dia em receita e quantidade \n",
    "# df=df.sort_values(['FlightID','Dep Date','DepTime','NDO'],ascending=False)\n",
    "# df['booked_day']=df['Booked'].diff()\n",
    "# df['revenue_day']=df['Revenue'].diff()\n",
    "# df['chave']= df['Segment']+df['FlightID']+(df['faixa_horaria'].astype('int')-1).astype('str')+(df['faixa_horaria'].astype('int')+1).astype('str')"
   ]
  },
  {
   "cell_type": "code",
   "execution_count": 10,
   "metadata": {},
   "outputs": [
    {
     "data": {
      "text/plain": [
       "19334241"
      ]
     },
     "execution_count": 10,
     "metadata": {},
     "output_type": "execute_result"
    }
   ],
   "source": [
    "n=len(df['faixa_horaria'])\n",
    "n"
   ]
  },
  {
   "cell_type": "code",
   "execution_count": 11,
   "metadata": {},
   "outputs": [
    {
     "data": {
      "text/plain": [
       "Index(['Capture', 'NDO', 'Dep Date', 'Event Name', 'EvDef', 'DOW', 'Month',\n",
       "       'Week', 'DepTime', 'Description', 'Nest', 'EquipmentType', 'NDSegment',\n",
       "       'Segment', 'Orig', 'Dest', 'FlightID', 'Distance', 'Flts', 'Lid',\n",
       "       'ASKs', 'RPKs', 'Booked', 'NSKBooked', 'GDSBooked', 'TudoAzulBooked',\n",
       "       'AzulViagensBooked', 'CNXBooked', 'Revenue', 'RevenueNSK', 'RevenueGDS',\n",
       "       'RevenueTudoAzul', 'RevenueAzulViagens', 'DLRev', 'faixa_horaria',\n",
       "       'chave2', 'Rask', 'Ocupacao', 'Periodo'],\n",
       "      dtype='object')"
      ]
     },
     "execution_count": 11,
     "metadata": {},
     "output_type": "execute_result"
    }
   ],
   "source": [
    "df.columns"
   ]
  },
  {
   "cell_type": "markdown",
   "metadata": {},
   "source": [
    "### Ajuste das Variaveis categoricas e de datas"
   ]
  },
  {
   "cell_type": "code",
   "execution_count": 12,
   "metadata": {},
   "outputs": [],
   "source": [
    "#Ajuste do nome das colunas, retirada de espaços\n",
    "df=df.rename(columns={'Dep Date':'Dep_Date','Event Name':'Event_Name'})\n",
    "\n",
    "#Ajustando Variaveis\n",
    "df['Capture']= df['Capture'].astype('datetime64')\n",
    "df['Dep_Date']= df['Dep_Date'].astype('datetime64')\n",
    "df['Event_Name'] = df['Event_Name'].astype('category')\n",
    "df['DOW'] = df['DOW'].astype('category')\n",
    "df['Description'] = df['Description'].astype('category')\n",
    "df['Nest'] = df['Nest'].astype('category')\n",
    "df['EquipmentType'] = df['EquipmentType'].astype('category')\n",
    "df['NDSegment'] = df['NDSegment'].astype('category')\n",
    "df['Segment'] = df['Segment'].astype('category')\n",
    "df['Orig'] = df['Orig'].astype('category')\n",
    "df['Dest'] = df['Dest'].astype('category')\n",
    "df['FlightID'] = df['FlightID'].astype('category')\n",
    "\n",
    "# df['Month']= df['Month'].astype('datetime64')\n",
    "# df['Week']= df['Week'].astype('datetime64')"
   ]
  },
  {
   "cell_type": "markdown",
   "metadata": {},
   "source": [
    "### Seleção de uma data de Captura / definição de amostra aleatória"
   ]
  },
  {
   "cell_type": "code",
   "execution_count": 13,
   "metadata": {},
   "outputs": [
    {
     "data": {
      "text/plain": [
       "(26367, 263)"
      ]
     },
     "execution_count": 13,
     "metadata": {},
     "output_type": "execute_result"
    }
   ],
   "source": [
    "\n",
    "\n",
    "dfTeste=df[df['Capture']=='2022-07-13']\n",
    "dfTeste=pd.DataFrame(dfTeste).reset_index()\n",
    "tamanho=dfTeste.shape[0]\n",
    "x=int((dfTeste.shape[0])*0.01)\n",
    "dfTeste=dfTeste.sample(x,replace=True)\n",
    "t=dfTeste.shape[0]\n",
    "tamanho, t"
   ]
  },
  {
   "cell_type": "markdown",
   "metadata": {},
   "source": [
    "# Aplicação de Modelos"
   ]
  },
  {
   "cell_type": "code",
   "execution_count": 55,
   "metadata": {},
   "outputs": [],
   "source": [
    "# ##Redefiniçao do data set de acordo com o data set de teste 2\n",
    "dforiginal2=df.copy()\n",
    "\n",
    "dforiglimpo2=dforiginal2.drop(columns=['NDSegment','Orig','Week','EquipmentType','ASKs', 'RPKs', 'Booked', 'NSKBooked', 'GDSBooked', 'TudoAzulBooked',\n",
    "       'AzulViagensBooked', 'CNXBooked', 'Revenue', 'RevenueNSK', 'RevenueGDS',\n",
    "       'RevenueTudoAzul', 'RevenueAzulViagens', 'DLRev'])\n",
    "# Rask_y~Nest+Revenue+Event_Name+EvDef+DOW+Lid+Rask_x+Description,'Dest',"
   ]
  },
  {
   "cell_type": "code",
   "execution_count": 56,
   "metadata": {},
   "outputs": [],
   "source": [
    "# dforiglimpo2=df[['NDO','Dep_Date','Segment','Periodo','Ocupacao','Flts','chave2','Nest','Dest','faixa_horaria','Capture','FlightID','Event_Name','EvDef','DOW','Month','Periodo','Description','Nest']]\n",
    "\n",
    "# dforiglimpo2=pd.DataFrame(dforiglimpo2)"
   ]
  },
  {
   "cell_type": "code",
   "execution_count": 57,
   "metadata": {},
   "outputs": [],
   "source": [
    "data=dfTeste['Capture'].max()\n",
    "grava_fim=dforiglimpo2.loc[(dforiglimpo2['Capture']<=data)]#&(dforiglimpo2['NDO'].min()==0)]\n",
    "grava_fim=grava_fim.query('NDO==-1')\n",
    "grava_fim['Finalizado']=1\n",
    "grava_fim=grava_fim[['chave2','Finalizado']]\n",
    "\n",
    "\n",
    "\n",
    "# data"
   ]
  },
  {
   "cell_type": "code",
   "execution_count": 58,
   "metadata": {},
   "outputs": [],
   "source": [
    "dforiglimpo2=pd.merge(dforiglimpo2, grava_fim, how='left', on='chave2')"
   ]
  },
  {
   "cell_type": "code",
   "execution_count": 59,
   "metadata": {},
   "outputs": [
    {
     "data": {
      "text/plain": [
       "(23573, 19521526)"
      ]
     },
     "execution_count": 59,
     "metadata": {},
     "output_type": "execute_result"
    }
   ],
   "source": [
    "grava_fim.shape[0],dforiglimpo2.shape[0]"
   ]
  },
  {
   "cell_type": "code",
   "execution_count": 60,
   "metadata": {},
   "outputs": [
    {
     "data": {
      "text/plain": [
       "Index(['Capture', 'NDO', 'Dep_Date', 'Event_Name', 'EvDef', 'DOW', 'Month',\n",
       "       'DepTime', 'Description', 'Nest', 'Segment', 'Dest', 'FlightID',\n",
       "       'Distance', 'Flts', 'Lid', 'faixa_horaria', 'chave2', 'Rask',\n",
       "       'Ocupacao', 'Periodo', 'Finalizado'],\n",
       "      dtype='object')"
      ]
     },
     "execution_count": 60,
     "metadata": {},
     "output_type": "execute_result"
    }
   ],
   "source": [
    "dforiglimpo2.columns"
   ]
  },
  {
   "cell_type": "code",
   "execution_count": 84,
   "metadata": {},
   "outputs": [
    {
     "name": "stderr",
     "output_type": "stream",
     "text": [
      "21:29:56 - cmdstanpy - INFO - Chain [1] start processing\n",
      "21:29:56 - cmdstanpy - INFO - Chain [1] done processing\n",
      "21:29:58 - cmdstanpy - INFO - Chain [1] start processing\n",
      "21:29:59 - cmdstanpy - INFO - Chain [1] done processing\n",
      "21:30:01 - cmdstanpy - INFO - Chain [1] start processing\n",
      "21:30:02 - cmdstanpy - INFO - Chain [1] done processing\n",
      "21:30:03 - cmdstanpy - INFO - Chain [1] start processing\n",
      "21:30:05 - cmdstanpy - INFO - Chain [1] done processing\n",
      "21:30:06 - cmdstanpy - INFO - Chain [1] start processing\n",
      "21:30:07 - cmdstanpy - INFO - Chain [1] done processing\n",
      "21:30:09 - cmdstanpy - INFO - Chain [1] start processing\n",
      "21:30:10 - cmdstanpy - INFO - Chain [1] done processing\n",
      "21:30:11 - cmdstanpy - INFO - Chain [1] start processing\n",
      "21:30:11 - cmdstanpy - INFO - Chain [1] done processing\n",
      "21:30:13 - cmdstanpy - INFO - Chain [1] start processing\n",
      "21:30:14 - cmdstanpy - INFO - Chain [1] done processing\n",
      "21:30:16 - cmdstanpy - INFO - Chain [1] start processing\n",
      "21:30:17 - cmdstanpy - INFO - Chain [1] done processing\n",
      "21:30:19 - cmdstanpy - INFO - Chain [1] start processing\n",
      "21:30:20 - cmdstanpy - INFO - Chain [1] done processing\n",
      "21:30:22 - cmdstanpy - INFO - Chain [1] start processing\n",
      "21:30:23 - cmdstanpy - INFO - Chain [1] done processing\n",
      "21:30:25 - cmdstanpy - INFO - Chain [1] start processing\n",
      "21:30:26 - cmdstanpy - INFO - Chain [1] done processing\n",
      "21:30:28 - cmdstanpy - INFO - Chain [1] start processing\n",
      "21:30:28 - cmdstanpy - INFO - Chain [1] done processing\n",
      "21:30:30 - cmdstanpy - INFO - Chain [1] start processing\n",
      "21:30:32 - cmdstanpy - INFO - Chain [1] done processing\n",
      "21:30:34 - cmdstanpy - INFO - Chain [1] start processing\n",
      "21:30:35 - cmdstanpy - INFO - Chain [1] done processing\n",
      "21:30:37 - cmdstanpy - INFO - Chain [1] start processing\n",
      "21:30:37 - cmdstanpy - INFO - Chain [1] done processing\n",
      "21:30:39 - cmdstanpy - INFO - Chain [1] start processing\n",
      "21:30:40 - cmdstanpy - INFO - Chain [1] done processing\n",
      "21:30:42 - cmdstanpy - INFO - Chain [1] start processing\n",
      "21:30:43 - cmdstanpy - INFO - Chain [1] done processing\n",
      "21:30:45 - cmdstanpy - INFO - Chain [1] start processing\n",
      "21:30:46 - cmdstanpy - INFO - Chain [1] done processing\n",
      "21:30:47 - cmdstanpy - INFO - Chain [1] start processing\n",
      "21:30:48 - cmdstanpy - INFO - Chain [1] done processing\n",
      "21:30:50 - cmdstanpy - INFO - Chain [1] start processing\n",
      "21:30:50 - cmdstanpy - INFO - Chain [1] done processing\n",
      "21:30:52 - cmdstanpy - INFO - Chain [1] start processing\n",
      "21:30:53 - cmdstanpy - INFO - Chain [1] done processing\n",
      "21:30:54 - cmdstanpy - INFO - Chain [1] start processing\n",
      "21:30:55 - cmdstanpy - INFO - Chain [1] done processing\n",
      "21:30:56 - cmdstanpy - INFO - Chain [1] start processing\n",
      "21:30:56 - cmdstanpy - INFO - Chain [1] done processing\n",
      "21:30:58 - cmdstanpy - INFO - Chain [1] start processing\n",
      "21:30:59 - cmdstanpy - INFO - Chain [1] done processing\n",
      "21:31:00 - cmdstanpy - INFO - Chain [1] start processing\n",
      "21:31:01 - cmdstanpy - INFO - Chain [1] done processing\n",
      "21:31:03 - cmdstanpy - INFO - Chain [1] start processing\n",
      "21:31:04 - cmdstanpy - INFO - Chain [1] done processing\n",
      "21:31:05 - cmdstanpy - INFO - Chain [1] start processing\n",
      "21:31:05 - cmdstanpy - INFO - Chain [1] done processing\n",
      "21:31:07 - cmdstanpy - INFO - Chain [1] start processing\n",
      "21:31:07 - cmdstanpy - INFO - Chain [1] done processing\n",
      "21:31:09 - cmdstanpy - INFO - Chain [1] start processing\n",
      "21:31:10 - cmdstanpy - INFO - Chain [1] done processing\n",
      "21:31:11 - cmdstanpy - INFO - Chain [1] start processing\n",
      "21:31:11 - cmdstanpy - INFO - Chain [1] done processing\n",
      "21:31:13 - cmdstanpy - INFO - Chain [1] start processing\n",
      "21:31:13 - cmdstanpy - INFO - Chain [1] done processing\n",
      "21:31:15 - cmdstanpy - INFO - Chain [1] start processing\n",
      "21:31:15 - cmdstanpy - INFO - Chain [1] done processing\n",
      "21:31:16 - cmdstanpy - INFO - Chain [1] start processing\n",
      "21:31:16 - cmdstanpy - INFO - Chain [1] done processing\n",
      "21:31:18 - cmdstanpy - INFO - Chain [1] start processing\n",
      "21:31:18 - cmdstanpy - INFO - Chain [1] done processing\n",
      "21:31:20 - cmdstanpy - INFO - Chain [1] start processing\n",
      "21:31:21 - cmdstanpy - INFO - Chain [1] done processing\n",
      "21:31:23 - cmdstanpy - INFO - Chain [1] start processing\n",
      "21:31:24 - cmdstanpy - INFO - Chain [1] done processing\n",
      "21:31:25 - cmdstanpy - INFO - Chain [1] start processing\n",
      "21:31:25 - cmdstanpy - INFO - Chain [1] done processing\n",
      "21:31:27 - cmdstanpy - INFO - Chain [1] start processing\n",
      "21:31:28 - cmdstanpy - INFO - Chain [1] done processing\n",
      "21:31:30 - cmdstanpy - INFO - Chain [1] start processing\n",
      "21:31:31 - cmdstanpy - INFO - Chain [1] done processing\n",
      "21:31:33 - cmdstanpy - INFO - Chain [1] start processing\n",
      "21:31:33 - cmdstanpy - INFO - Chain [1] done processing\n",
      "21:31:34 - cmdstanpy - INFO - Chain [1] start processing\n",
      "21:31:35 - cmdstanpy - INFO - Chain [1] done processing\n",
      "21:31:37 - cmdstanpy - INFO - Chain [1] start processing\n",
      "21:31:38 - cmdstanpy - INFO - Chain [1] done processing\n",
      "21:31:40 - cmdstanpy - INFO - Chain [1] start processing\n",
      "21:31:40 - cmdstanpy - INFO - Chain [1] done processing\n",
      "21:31:42 - cmdstanpy - INFO - Chain [1] start processing\n",
      "21:31:43 - cmdstanpy - INFO - Chain [1] done processing\n",
      "21:31:45 - cmdstanpy - INFO - Chain [1] start processing\n",
      "21:31:45 - cmdstanpy - INFO - Chain [1] done processing\n",
      "21:31:47 - cmdstanpy - INFO - Chain [1] start processing\n",
      "21:31:47 - cmdstanpy - INFO - Chain [1] done processing\n",
      "21:31:49 - cmdstanpy - INFO - Chain [1] start processing\n",
      "21:31:50 - cmdstanpy - INFO - Chain [1] done processing\n",
      "21:31:51 - cmdstanpy - INFO - Chain [1] start processing\n",
      "21:31:52 - cmdstanpy - INFO - Chain [1] done processing\n",
      "21:31:54 - cmdstanpy - INFO - Chain [1] start processing\n",
      "21:31:54 - cmdstanpy - INFO - Chain [1] done processing\n",
      "21:31:56 - cmdstanpy - INFO - Chain [1] start processing\n",
      "21:31:56 - cmdstanpy - INFO - Chain [1] done processing\n",
      "21:31:58 - cmdstanpy - INFO - Chain [1] start processing\n",
      "21:31:59 - cmdstanpy - INFO - Chain [1] done processing\n",
      "21:32:01 - cmdstanpy - INFO - Chain [1] start processing\n",
      "21:32:01 - cmdstanpy - INFO - Chain [1] done processing\n",
      "21:32:03 - cmdstanpy - INFO - Chain [1] start processing\n",
      "21:32:04 - cmdstanpy - INFO - Chain [1] done processing\n",
      "21:32:05 - cmdstanpy - INFO - Chain [1] start processing\n",
      "21:32:05 - cmdstanpy - INFO - Chain [1] done processing\n",
      "21:32:07 - cmdstanpy - INFO - Chain [1] start processing\n",
      "21:32:08 - cmdstanpy - INFO - Chain [1] done processing\n",
      "21:32:10 - cmdstanpy - INFO - Chain [1] start processing\n",
      "21:32:11 - cmdstanpy - INFO - Chain [1] done processing\n",
      "21:32:12 - cmdstanpy - INFO - Chain [1] start processing\n",
      "21:32:14 - cmdstanpy - INFO - Chain [1] done processing\n",
      "21:32:15 - cmdstanpy - INFO - Chain [1] start processing\n",
      "21:32:17 - cmdstanpy - INFO - Chain [1] done processing\n",
      "21:32:18 - cmdstanpy - INFO - Chain [1] start processing\n",
      "21:32:19 - cmdstanpy - INFO - Chain [1] done processing\n",
      "21:32:20 - cmdstanpy - INFO - Chain [1] start processing\n",
      "21:32:21 - cmdstanpy - INFO - Chain [1] done processing\n",
      "21:32:23 - cmdstanpy - INFO - Chain [1] start processing\n",
      "21:32:23 - cmdstanpy - INFO - Chain [1] done processing\n",
      "21:32:25 - cmdstanpy - INFO - Chain [1] start processing\n",
      "21:32:26 - cmdstanpy - INFO - Chain [1] done processing\n",
      "21:32:28 - cmdstanpy - INFO - Chain [1] start processing\n",
      "21:32:29 - cmdstanpy - INFO - Chain [1] done processing\n",
      "21:32:31 - cmdstanpy - INFO - Chain [1] start processing\n",
      "21:32:32 - cmdstanpy - INFO - Chain [1] done processing\n",
      "21:32:34 - cmdstanpy - INFO - Chain [1] start processing\n",
      "21:32:34 - cmdstanpy - INFO - Chain [1] done processing\n",
      "21:32:36 - cmdstanpy - INFO - Chain [1] start processing\n",
      "21:32:37 - cmdstanpy - INFO - Chain [1] done processing\n",
      "21:32:38 - cmdstanpy - INFO - Chain [1] start processing\n",
      "21:32:38 - cmdstanpy - INFO - Chain [1] done processing\n",
      "21:32:40 - cmdstanpy - INFO - Chain [1] start processing\n",
      "21:32:40 - cmdstanpy - INFO - Chain [1] done processing\n",
      "21:32:42 - cmdstanpy - INFO - Chain [1] start processing\n",
      "21:32:43 - cmdstanpy - INFO - Chain [1] done processing\n",
      "21:32:45 - cmdstanpy - INFO - Chain [1] start processing\n",
      "21:32:45 - cmdstanpy - INFO - Chain [1] done processing\n",
      "21:32:47 - cmdstanpy - INFO - Chain [1] start processing\n",
      "21:32:48 - cmdstanpy - INFO - Chain [1] done processing\n",
      "21:32:50 - cmdstanpy - INFO - Chain [1] start processing\n",
      "21:32:51 - cmdstanpy - INFO - Chain [1] done processing\n",
      "21:32:53 - cmdstanpy - INFO - Chain [1] start processing\n",
      "21:32:54 - cmdstanpy - INFO - Chain [1] done processing\n",
      "21:32:55 - cmdstanpy - INFO - Chain [1] start processing\n",
      "21:32:56 - cmdstanpy - INFO - Chain [1] done processing\n",
      "21:32:58 - cmdstanpy - INFO - Chain [1] start processing\n",
      "21:32:58 - cmdstanpy - INFO - Chain [1] done processing\n",
      "21:33:00 - cmdstanpy - INFO - Chain [1] start processing\n",
      "21:33:01 - cmdstanpy - INFO - Chain [1] done processing\n",
      "21:33:02 - cmdstanpy - INFO - Chain [1] start processing\n",
      "21:33:02 - cmdstanpy - INFO - Chain [1] done processing\n",
      "21:33:04 - cmdstanpy - INFO - Chain [1] start processing\n",
      "21:33:04 - cmdstanpy - INFO - Chain [1] done processing\n",
      "21:33:06 - cmdstanpy - INFO - Chain [1] start processing\n",
      "21:33:06 - cmdstanpy - INFO - Chain [1] done processing\n",
      "21:33:07 - cmdstanpy - INFO - Chain [1] start processing\n",
      "21:33:07 - cmdstanpy - INFO - Chain [1] done processing\n",
      "21:33:09 - cmdstanpy - INFO - Chain [1] start processing\n",
      "21:33:10 - cmdstanpy - INFO - Chain [1] done processing\n",
      "21:33:12 - cmdstanpy - INFO - Chain [1] start processing\n",
      "21:33:12 - cmdstanpy - INFO - Chain [1] done processing\n",
      "21:33:13 - cmdstanpy - INFO - Chain [1] start processing\n",
      "21:33:13 - cmdstanpy - INFO - Chain [1] done processing\n",
      "21:33:15 - cmdstanpy - INFO - Chain [1] start processing\n",
      "21:33:15 - cmdstanpy - INFO - Chain [1] done processing\n",
      "21:33:16 - cmdstanpy - INFO - Chain [1] start processing\n",
      "21:33:17 - cmdstanpy - INFO - Chain [1] done processing\n",
      "21:33:18 - cmdstanpy - INFO - Chain [1] start processing\n",
      "21:33:20 - cmdstanpy - INFO - Chain [1] done processing\n",
      "21:33:21 - cmdstanpy - INFO - Chain [1] start processing\n",
      "21:33:23 - cmdstanpy - INFO - Chain [1] done processing\n",
      "21:33:24 - cmdstanpy - INFO - Chain [1] start processing\n",
      "21:33:24 - cmdstanpy - INFO - Chain [1] done processing\n",
      "21:33:26 - cmdstanpy - INFO - Chain [1] start processing\n",
      "21:33:27 - cmdstanpy - INFO - Chain [1] done processing\n",
      "21:33:29 - cmdstanpy - INFO - Chain [1] start processing\n",
      "21:33:30 - cmdstanpy - INFO - Chain [1] done processing\n",
      "21:33:31 - cmdstanpy - INFO - Chain [1] start processing\n",
      "21:33:31 - cmdstanpy - INFO - Chain [1] done processing\n",
      "21:33:33 - cmdstanpy - INFO - Chain [1] start processing\n",
      "21:33:33 - cmdstanpy - INFO - Chain [1] done processing\n",
      "21:33:35 - cmdstanpy - INFO - Chain [1] start processing\n",
      "21:33:36 - cmdstanpy - INFO - Chain [1] done processing\n",
      "21:33:37 - cmdstanpy - INFO - Chain [1] start processing\n",
      "21:33:37 - cmdstanpy - INFO - Chain [1] done processing\n",
      "21:33:39 - cmdstanpy - INFO - Chain [1] start processing\n",
      "21:33:40 - cmdstanpy - INFO - Chain [1] done processing\n",
      "21:33:42 - cmdstanpy - INFO - Chain [1] start processing\n",
      "21:33:43 - cmdstanpy - INFO - Chain [1] done processing\n",
      "21:33:44 - cmdstanpy - INFO - Chain [1] start processing\n",
      "21:33:45 - cmdstanpy - INFO - Chain [1] done processing\n",
      "21:33:46 - cmdstanpy - INFO - Chain [1] start processing\n",
      "21:33:47 - cmdstanpy - INFO - Chain [1] done processing\n",
      "21:33:49 - cmdstanpy - INFO - Chain [1] start processing\n",
      "21:33:50 - cmdstanpy - INFO - Chain [1] done processing\n",
      "21:33:52 - cmdstanpy - INFO - Chain [1] start processing\n",
      "21:33:53 - cmdstanpy - INFO - Chain [1] done processing\n",
      "21:33:54 - cmdstanpy - INFO - Chain [1] start processing\n",
      "21:33:56 - cmdstanpy - INFO - Chain [1] done processing\n",
      "21:33:57 - cmdstanpy - INFO - Chain [1] start processing\n",
      "21:33:58 - cmdstanpy - INFO - Chain [1] done processing\n",
      "21:33:59 - cmdstanpy - INFO - Chain [1] start processing\n",
      "21:34:00 - cmdstanpy - INFO - Chain [1] done processing\n",
      "21:34:02 - cmdstanpy - INFO - Chain [1] start processing\n",
      "21:34:02 - cmdstanpy - INFO - Chain [1] done processing\n",
      "21:34:03 - cmdstanpy - INFO - Chain [1] start processing\n",
      "21:34:04 - cmdstanpy - INFO - Chain [1] done processing\n",
      "21:34:05 - cmdstanpy - INFO - Chain [1] start processing\n",
      "21:34:05 - cmdstanpy - INFO - Chain [1] done processing\n",
      "21:34:07 - cmdstanpy - INFO - Chain [1] start processing\n",
      "21:34:08 - cmdstanpy - INFO - Chain [1] done processing\n",
      "21:34:10 - cmdstanpy - INFO - Chain [1] start processing\n",
      "21:34:10 - cmdstanpy - INFO - Chain [1] done processing\n",
      "21:34:11 - cmdstanpy - INFO - Chain [1] start processing\n",
      "21:34:11 - cmdstanpy - INFO - Chain [1] done processing\n",
      "21:34:13 - cmdstanpy - INFO - Chain [1] start processing\n",
      "21:34:14 - cmdstanpy - INFO - Chain [1] done processing\n",
      "21:34:15 - cmdstanpy - INFO - Chain [1] start processing\n",
      "21:34:16 - cmdstanpy - INFO - Chain [1] done processing\n",
      "21:34:17 - cmdstanpy - INFO - Chain [1] start processing\n",
      "21:34:17 - cmdstanpy - INFO - Chain [1] done processing\n",
      "21:34:19 - cmdstanpy - INFO - Chain [1] start processing\n",
      "21:34:19 - cmdstanpy - INFO - Chain [1] done processing\n",
      "21:34:21 - cmdstanpy - INFO - Chain [1] start processing\n",
      "21:34:21 - cmdstanpy - INFO - Chain [1] done processing\n",
      "21:34:22 - cmdstanpy - INFO - Chain [1] start processing\n",
      "21:34:23 - cmdstanpy - INFO - Chain [1] done processing\n",
      "21:34:25 - cmdstanpy - INFO - Chain [1] start processing\n",
      "21:34:25 - cmdstanpy - INFO - Chain [1] done processing\n",
      "21:34:26 - cmdstanpy - INFO - Chain [1] start processing\n",
      "21:34:27 - cmdstanpy - INFO - Chain [1] done processing\n",
      "21:34:29 - cmdstanpy - INFO - Chain [1] start processing\n",
      "21:34:30 - cmdstanpy - INFO - Chain [1] done processing\n",
      "21:34:32 - cmdstanpy - INFO - Chain [1] start processing\n",
      "21:34:32 - cmdstanpy - INFO - Chain [1] done processing\n",
      "21:34:33 - cmdstanpy - INFO - Chain [1] start processing\n",
      "21:34:34 - cmdstanpy - INFO - Chain [1] done processing\n",
      "21:34:35 - cmdstanpy - INFO - Chain [1] start processing\n",
      "21:34:36 - cmdstanpy - INFO - Chain [1] done processing\n",
      "21:34:38 - cmdstanpy - INFO - Chain [1] start processing\n",
      "21:34:38 - cmdstanpy - INFO - Chain [1] done processing\n",
      "21:34:39 - cmdstanpy - INFO - Chain [1] start processing\n",
      "21:34:41 - cmdstanpy - INFO - Chain [1] done processing\n",
      "21:34:43 - cmdstanpy - INFO - Chain [1] start processing\n",
      "21:34:43 - cmdstanpy - INFO - Chain [1] done processing\n",
      "21:34:45 - cmdstanpy - INFO - Chain [1] start processing\n",
      "21:34:46 - cmdstanpy - INFO - Chain [1] done processing\n",
      "21:34:48 - cmdstanpy - INFO - Chain [1] start processing\n",
      "21:34:49 - cmdstanpy - INFO - Chain [1] done processing\n",
      "21:34:51 - cmdstanpy - INFO - Chain [1] start processing\n",
      "21:34:52 - cmdstanpy - INFO - Chain [1] done processing\n",
      "21:34:55 - cmdstanpy - INFO - Chain [1] start processing\n",
      "21:34:55 - cmdstanpy - INFO - Chain [1] done processing\n",
      "21:34:57 - cmdstanpy - INFO - Chain [1] start processing\n",
      "21:34:57 - cmdstanpy - INFO - Chain [1] done processing\n",
      "21:34:59 - cmdstanpy - INFO - Chain [1] start processing\n",
      "21:34:59 - cmdstanpy - INFO - Chain [1] done processing\n",
      "21:35:00 - cmdstanpy - INFO - Chain [1] start processing\n",
      "21:35:01 - cmdstanpy - INFO - Chain [1] done processing\n",
      "21:35:03 - cmdstanpy - INFO - Chain [1] start processing\n",
      "21:35:04 - cmdstanpy - INFO - Chain [1] done processing\n",
      "21:35:06 - cmdstanpy - INFO - Chain [1] start processing\n",
      "21:35:06 - cmdstanpy - INFO - Chain [1] done processing\n",
      "21:35:08 - cmdstanpy - INFO - Chain [1] start processing\n",
      "21:35:08 - cmdstanpy - INFO - Chain [1] done processing\n",
      "21:35:10 - cmdstanpy - INFO - Chain [1] start processing\n",
      "21:35:10 - cmdstanpy - INFO - Chain [1] done processing\n",
      "21:35:12 - cmdstanpy - INFO - Chain [1] start processing\n",
      "21:35:13 - cmdstanpy - INFO - Chain [1] done processing\n",
      "21:35:15 - cmdstanpy - INFO - Chain [1] start processing\n",
      "21:35:16 - cmdstanpy - INFO - Chain [1] done processing\n",
      "21:35:17 - cmdstanpy - INFO - Chain [1] start processing\n",
      "21:35:18 - cmdstanpy - INFO - Chain [1] done processing\n",
      "21:35:20 - cmdstanpy - INFO - Chain [1] start processing\n",
      "21:35:22 - cmdstanpy - INFO - Chain [1] done processing\n",
      "21:35:24 - cmdstanpy - INFO - Chain [1] start processing\n",
      "21:35:26 - cmdstanpy - INFO - Chain [1] done processing\n",
      "21:35:28 - cmdstanpy - INFO - Chain [1] start processing\n",
      "21:35:29 - cmdstanpy - INFO - Chain [1] done processing\n",
      "21:35:32 - cmdstanpy - INFO - Chain [1] start processing\n",
      "21:35:32 - cmdstanpy - INFO - Chain [1] done processing\n",
      "21:35:34 - cmdstanpy - INFO - Chain [1] start processing\n",
      "21:35:35 - cmdstanpy - INFO - Chain [1] done processing\n",
      "21:35:37 - cmdstanpy - INFO - Chain [1] start processing\n",
      "21:35:37 - cmdstanpy - INFO - Chain [1] done processing\n",
      "21:35:40 - cmdstanpy - INFO - Chain [1] start processing\n",
      "21:35:42 - cmdstanpy - INFO - Chain [1] done processing\n",
      "21:35:44 - cmdstanpy - INFO - Chain [1] start processing\n",
      "21:35:45 - cmdstanpy - INFO - Chain [1] done processing\n",
      "21:35:48 - cmdstanpy - INFO - Chain [1] start processing\n",
      "21:35:48 - cmdstanpy - INFO - Chain [1] done processing\n",
      "21:35:50 - cmdstanpy - INFO - Chain [1] start processing\n",
      "21:35:50 - cmdstanpy - INFO - Chain [1] done processing\n",
      "21:35:52 - cmdstanpy - INFO - Chain [1] start processing\n",
      "21:35:52 - cmdstanpy - INFO - Chain [1] done processing\n",
      "21:35:54 - cmdstanpy - INFO - Chain [1] start processing\n",
      "21:35:54 - cmdstanpy - INFO - Chain [1] done processing\n",
      "21:35:56 - cmdstanpy - INFO - Chain [1] start processing\n",
      "21:35:56 - cmdstanpy - INFO - Chain [1] done processing\n",
      "21:35:58 - cmdstanpy - INFO - Chain [1] start processing\n",
      "21:35:59 - cmdstanpy - INFO - Chain [1] done processing\n",
      "21:36:01 - cmdstanpy - INFO - Chain [1] start processing\n",
      "21:36:02 - cmdstanpy - INFO - Chain [1] done processing\n",
      "21:36:04 - cmdstanpy - INFO - Chain [1] start processing\n",
      "21:36:04 - cmdstanpy - INFO - Chain [1] done processing\n",
      "21:36:07 - cmdstanpy - INFO - Chain [1] start processing\n",
      "21:36:08 - cmdstanpy - INFO - Chain [1] done processing\n",
      "21:36:11 - cmdstanpy - INFO - Chain [1] start processing\n",
      "21:36:13 - cmdstanpy - INFO - Chain [1] done processing\n",
      "21:36:15 - cmdstanpy - INFO - Chain [1] start processing\n",
      "21:36:17 - cmdstanpy - INFO - Chain [1] done processing\n",
      "21:36:19 - cmdstanpy - INFO - Chain [1] start processing\n",
      "21:36:20 - cmdstanpy - INFO - Chain [1] done processing\n",
      "21:36:21 - cmdstanpy - INFO - Chain [1] start processing\n",
      "21:36:22 - cmdstanpy - INFO - Chain [1] done processing\n",
      "21:36:23 - cmdstanpy - INFO - Chain [1] start processing\n",
      "21:36:24 - cmdstanpy - INFO - Chain [1] done processing\n",
      "21:36:26 - cmdstanpy - INFO - Chain [1] start processing\n",
      "21:36:26 - cmdstanpy - INFO - Chain [1] done processing\n",
      "21:36:28 - cmdstanpy - INFO - Chain [1] start processing\n",
      "21:36:29 - cmdstanpy - INFO - Chain [1] done processing\n",
      "21:36:31 - cmdstanpy - INFO - Chain [1] start processing\n",
      "21:36:31 - cmdstanpy - INFO - Chain [1] done processing\n",
      "21:36:32 - cmdstanpy - INFO - Chain [1] start processing\n",
      "21:36:33 - cmdstanpy - INFO - Chain [1] done processing\n",
      "21:36:34 - cmdstanpy - INFO - Chain [1] start processing\n",
      "21:36:35 - cmdstanpy - INFO - Chain [1] done processing\n",
      "21:36:37 - cmdstanpy - INFO - Chain [1] start processing\n",
      "21:36:37 - cmdstanpy - INFO - Chain [1] done processing\n",
      "21:36:39 - cmdstanpy - INFO - Chain [1] start processing\n",
      "21:36:39 - cmdstanpy - INFO - Chain [1] done processing\n",
      "21:36:41 - cmdstanpy - INFO - Chain [1] start processing\n",
      "21:36:41 - cmdstanpy - INFO - Chain [1] done processing\n",
      "21:36:43 - cmdstanpy - INFO - Chain [1] start processing\n",
      "21:36:43 - cmdstanpy - INFO - Chain [1] done processing\n",
      "21:36:45 - cmdstanpy - INFO - Chain [1] start processing\n",
      "21:36:46 - cmdstanpy - INFO - Chain [1] done processing\n",
      "21:36:48 - cmdstanpy - INFO - Chain [1] start processing\n",
      "21:36:49 - cmdstanpy - INFO - Chain [1] done processing\n",
      "21:36:51 - cmdstanpy - INFO - Chain [1] start processing\n",
      "21:36:51 - cmdstanpy - INFO - Chain [1] done processing\n",
      "21:36:52 - cmdstanpy - INFO - Chain [1] start processing\n",
      "21:36:54 - cmdstanpy - INFO - Chain [1] done processing\n",
      "21:36:55 - cmdstanpy - INFO - Chain [1] start processing\n",
      "21:36:55 - cmdstanpy - INFO - Chain [1] done processing\n",
      "21:36:57 - cmdstanpy - INFO - Chain [1] start processing\n",
      "21:36:57 - cmdstanpy - INFO - Chain [1] done processing\n",
      "21:36:59 - cmdstanpy - INFO - Chain [1] start processing\n",
      "21:36:59 - cmdstanpy - INFO - Chain [1] done processing\n",
      "21:37:00 - cmdstanpy - INFO - Chain [1] start processing\n",
      "21:37:00 - cmdstanpy - INFO - Chain [1] done processing\n",
      "21:37:02 - cmdstanpy - INFO - Chain [1] start processing\n",
      "21:37:03 - cmdstanpy - INFO - Chain [1] done processing\n",
      "21:37:04 - cmdstanpy - INFO - Chain [1] start processing\n",
      "21:37:05 - cmdstanpy - INFO - Chain [1] done processing\n",
      "21:37:06 - cmdstanpy - INFO - Chain [1] start processing\n",
      "21:37:07 - cmdstanpy - INFO - Chain [1] done processing\n",
      "21:37:09 - cmdstanpy - INFO - Chain [1] start processing\n",
      "21:37:11 - cmdstanpy - INFO - Chain [1] done processing\n",
      "21:37:12 - cmdstanpy - INFO - Chain [1] start processing\n",
      "21:37:14 - cmdstanpy - INFO - Chain [1] done processing\n",
      "21:37:15 - cmdstanpy - INFO - Chain [1] start processing\n",
      "21:37:16 - cmdstanpy - INFO - Chain [1] done processing\n",
      "21:37:18 - cmdstanpy - INFO - Chain [1] start processing\n",
      "21:37:19 - cmdstanpy - INFO - Chain [1] done processing\n",
      "21:37:21 - cmdstanpy - INFO - Chain [1] start processing\n",
      "21:37:22 - cmdstanpy - INFO - Chain [1] done processing\n",
      "21:37:24 - cmdstanpy - INFO - Chain [1] start processing\n",
      "21:37:25 - cmdstanpy - INFO - Chain [1] done processing\n",
      "21:37:27 - cmdstanpy - INFO - Chain [1] start processing\n",
      "21:37:28 - cmdstanpy - INFO - Chain [1] done processing\n",
      "21:37:29 - cmdstanpy - INFO - Chain [1] start processing\n",
      "21:37:31 - cmdstanpy - INFO - Chain [1] done processing\n",
      "21:37:33 - cmdstanpy - INFO - Chain [1] start processing\n",
      "21:37:34 - cmdstanpy - INFO - Chain [1] done processing\n",
      "21:37:36 - cmdstanpy - INFO - Chain [1] start processing\n",
      "21:37:38 - cmdstanpy - INFO - Chain [1] done processing\n",
      "21:37:39 - cmdstanpy - INFO - Chain [1] start processing\n",
      "21:37:40 - cmdstanpy - INFO - Chain [1] done processing\n",
      "21:37:42 - cmdstanpy - INFO - Chain [1] start processing\n",
      "21:37:42 - cmdstanpy - INFO - Chain [1] done processing\n",
      "21:37:44 - cmdstanpy - INFO - Chain [1] start processing\n",
      "21:37:44 - cmdstanpy - INFO - Chain [1] done processing\n",
      "21:37:45 - cmdstanpy - INFO - Chain [1] start processing\n",
      "21:37:45 - cmdstanpy - INFO - Chain [1] done processing\n",
      "21:37:47 - cmdstanpy - INFO - Chain [1] start processing\n",
      "21:37:48 - cmdstanpy - INFO - Chain [1] done processing\n",
      "21:37:49 - cmdstanpy - INFO - Chain [1] start processing\n",
      "21:37:50 - cmdstanpy - INFO - Chain [1] done processing\n",
      "21:37:52 - cmdstanpy - INFO - Chain [1] start processing\n",
      "21:37:53 - cmdstanpy - INFO - Chain [1] done processing\n",
      "21:37:55 - cmdstanpy - INFO - Chain [1] start processing\n",
      "21:37:56 - cmdstanpy - INFO - Chain [1] done processing\n",
      "21:37:58 - cmdstanpy - INFO - Chain [1] start processing\n",
      "21:37:59 - cmdstanpy - INFO - Chain [1] done processing\n",
      "21:38:01 - cmdstanpy - INFO - Chain [1] start processing\n",
      "21:38:02 - cmdstanpy - INFO - Chain [1] done processing\n",
      "21:38:04 - cmdstanpy - INFO - Chain [1] start processing\n",
      "21:38:05 - cmdstanpy - INFO - Chain [1] done processing\n",
      "21:38:06 - cmdstanpy - INFO - Chain [1] start processing\n",
      "21:38:07 - cmdstanpy - INFO - Chain [1] done processing\n",
      "21:38:09 - cmdstanpy - INFO - Chain [1] start processing\n",
      "21:38:10 - cmdstanpy - INFO - Chain [1] done processing\n",
      "21:38:11 - cmdstanpy - INFO - Chain [1] start processing\n",
      "21:38:13 - cmdstanpy - INFO - Chain [1] done processing\n",
      "21:38:14 - cmdstanpy - INFO - Chain [1] start processing\n",
      "21:38:16 - cmdstanpy - INFO - Chain [1] done processing\n",
      "21:38:17 - cmdstanpy - INFO - Chain [1] start processing\n",
      "21:38:19 - cmdstanpy - INFO - Chain [1] done processing\n",
      "21:38:21 - cmdstanpy - INFO - Chain [1] start processing\n",
      "21:38:21 - cmdstanpy - INFO - Chain [1] done processing\n",
      "21:38:23 - cmdstanpy - INFO - Chain [1] start processing\n",
      "21:38:24 - cmdstanpy - INFO - Chain [1] done processing\n",
      "21:38:26 - cmdstanpy - INFO - Chain [1] start processing\n",
      "21:38:27 - cmdstanpy - INFO - Chain [1] done processing\n",
      "21:38:30 - cmdstanpy - INFO - Chain [1] start processing\n",
      "21:38:31 - cmdstanpy - INFO - Chain [1] done processing\n",
      "21:38:33 - cmdstanpy - INFO - Chain [1] start processing\n",
      "21:38:33 - cmdstanpy - INFO - Chain [1] done processing\n",
      "21:38:35 - cmdstanpy - INFO - Chain [1] start processing\n",
      "21:38:35 - cmdstanpy - INFO - Chain [1] done processing\n",
      "21:38:37 - cmdstanpy - INFO - Chain [1] start processing\n",
      "21:38:38 - cmdstanpy - INFO - Chain [1] done processing\n",
      "21:38:40 - cmdstanpy - INFO - Chain [1] start processing\n",
      "21:38:41 - cmdstanpy - INFO - Chain [1] done processing\n",
      "21:38:43 - cmdstanpy - INFO - Chain [1] start processing\n",
      "21:38:43 - cmdstanpy - INFO - Chain [1] done processing\n",
      "21:38:45 - cmdstanpy - INFO - Chain [1] start processing\n",
      "21:38:46 - cmdstanpy - INFO - Chain [1] done processing\n",
      "21:38:48 - cmdstanpy - INFO - Chain [1] start processing\n",
      "21:38:49 - cmdstanpy - INFO - Chain [1] done processing\n",
      "21:38:51 - cmdstanpy - INFO - Chain [1] start processing\n",
      "21:38:52 - cmdstanpy - INFO - Chain [1] done processing\n",
      "21:38:54 - cmdstanpy - INFO - Chain [1] start processing\n",
      "21:38:55 - cmdstanpy - INFO - Chain [1] done processing\n",
      "21:38:57 - cmdstanpy - INFO - Chain [1] start processing\n",
      "21:38:58 - cmdstanpy - INFO - Chain [1] done processing\n",
      "21:39:00 - cmdstanpy - INFO - Chain [1] start processing\n",
      "21:39:00 - cmdstanpy - INFO - Chain [1] done processing\n",
      "21:39:02 - cmdstanpy - INFO - Chain [1] start processing\n",
      "21:39:02 - cmdstanpy - INFO - Chain [1] done processing\n",
      "21:39:05 - cmdstanpy - INFO - Chain [1] start processing\n",
      "21:39:07 - cmdstanpy - INFO - Chain [1] done processing\n",
      "21:39:08 - cmdstanpy - INFO - Chain [1] start processing\n",
      "21:39:09 - cmdstanpy - INFO - Chain [1] done processing\n",
      "21:39:11 - cmdstanpy - INFO - Chain [1] start processing\n",
      "21:39:11 - cmdstanpy - INFO - Chain [1] done processing\n",
      "21:39:13 - cmdstanpy - INFO - Chain [1] start processing\n",
      "21:39:14 - cmdstanpy - INFO - Chain [1] done processing\n",
      "21:39:15 - cmdstanpy - INFO - Chain [1] start processing\n",
      "21:39:16 - cmdstanpy - INFO - Chain [1] done processing\n",
      "21:39:17 - cmdstanpy - INFO - Chain [1] start processing\n",
      "21:39:19 - cmdstanpy - INFO - Chain [1] done processing\n",
      "21:39:20 - cmdstanpy - INFO - Chain [1] start processing\n",
      "21:39:21 - cmdstanpy - INFO - Chain [1] done processing\n",
      "21:39:22 - cmdstanpy - INFO - Chain [1] start processing\n",
      "21:39:23 - cmdstanpy - INFO - Chain [1] done processing\n",
      "21:39:25 - cmdstanpy - INFO - Chain [1] start processing\n",
      "21:39:25 - cmdstanpy - INFO - Chain [1] done processing\n",
      "21:39:26 - cmdstanpy - INFO - Chain [1] start processing\n",
      "21:39:27 - cmdstanpy - INFO - Chain [1] done processing\n",
      "21:39:28 - cmdstanpy - INFO - Chain [1] start processing\n",
      "21:39:28 - cmdstanpy - INFO - Chain [1] done processing\n",
      "21:39:30 - cmdstanpy - INFO - Chain [1] start processing\n",
      "21:39:31 - cmdstanpy - INFO - Chain [1] done processing\n",
      "21:39:33 - cmdstanpy - INFO - Chain [1] start processing\n",
      "21:39:34 - cmdstanpy - INFO - Chain [1] done processing\n",
      "21:39:36 - cmdstanpy - INFO - Chain [1] start processing\n",
      "21:39:37 - cmdstanpy - INFO - Chain [1] done processing\n",
      "21:39:38 - cmdstanpy - INFO - Chain [1] start processing\n",
      "21:39:38 - cmdstanpy - INFO - Chain [1] done processing\n",
      "21:39:40 - cmdstanpy - INFO - Chain [1] start processing\n",
      "21:39:41 - cmdstanpy - INFO - Chain [1] done processing\n",
      "21:39:42 - cmdstanpy - INFO - Chain [1] start processing\n",
      "21:39:42 - cmdstanpy - INFO - Chain [1] done processing\n",
      "21:39:44 - cmdstanpy - INFO - Chain [1] start processing\n",
      "21:39:44 - cmdstanpy - INFO - Chain [1] done processing\n",
      "21:39:46 - cmdstanpy - INFO - Chain [1] start processing\n",
      "21:39:47 - cmdstanpy - INFO - Chain [1] done processing\n",
      "21:39:49 - cmdstanpy - INFO - Chain [1] start processing\n",
      "21:39:50 - cmdstanpy - INFO - Chain [1] done processing\n",
      "21:39:52 - cmdstanpy - INFO - Chain [1] start processing\n",
      "21:39:53 - cmdstanpy - INFO - Chain [1] done processing\n",
      "21:39:55 - cmdstanpy - INFO - Chain [1] start processing\n",
      "21:40:01 - cmdstanpy - INFO - Chain [1] done processing\n",
      "21:40:02 - cmdstanpy - INFO - Chain [1] start processing\n",
      "21:40:08 - cmdstanpy - INFO - Chain [1] done processing\n",
      "21:40:10 - cmdstanpy - INFO - Chain [1] start processing\n",
      "21:40:10 - cmdstanpy - INFO - Chain [1] done processing\n",
      "21:40:12 - cmdstanpy - INFO - Chain [1] start processing\n",
      "21:40:13 - cmdstanpy - INFO - Chain [1] done processing\n",
      "21:40:15 - cmdstanpy - INFO - Chain [1] start processing\n",
      "21:40:16 - cmdstanpy - INFO - Chain [1] done processing\n",
      "21:40:17 - cmdstanpy - INFO - Chain [1] start processing\n",
      "21:40:24 - cmdstanpy - INFO - Chain [1] done processing\n",
      "21:40:25 - cmdstanpy - INFO - Chain [1] start processing\n",
      "21:40:26 - cmdstanpy - INFO - Chain [1] done processing\n",
      "21:40:28 - cmdstanpy - INFO - Chain [1] start processing\n",
      "21:40:28 - cmdstanpy - INFO - Chain [1] done processing\n",
      "21:40:31 - cmdstanpy - INFO - Chain [1] start processing\n",
      "21:40:32 - cmdstanpy - INFO - Chain [1] done processing\n",
      "21:40:33 - cmdstanpy - INFO - Chain [1] start processing\n",
      "21:40:33 - cmdstanpy - INFO - Chain [1] done processing\n",
      "21:40:35 - cmdstanpy - INFO - Chain [1] start processing\n",
      "21:40:36 - cmdstanpy - INFO - Chain [1] done processing\n",
      "21:40:37 - cmdstanpy - INFO - Chain [1] start processing\n",
      "21:40:38 - cmdstanpy - INFO - Chain [1] done processing\n",
      "21:40:40 - cmdstanpy - INFO - Chain [1] start processing\n",
      "21:40:40 - cmdstanpy - INFO - Chain [1] done processing\n",
      "21:40:42 - cmdstanpy - INFO - Chain [1] start processing\n",
      "21:40:43 - cmdstanpy - INFO - Chain [1] done processing\n",
      "21:40:44 - cmdstanpy - INFO - Chain [1] start processing\n",
      "21:40:45 - cmdstanpy - INFO - Chain [1] done processing\n",
      "21:40:47 - cmdstanpy - INFO - Chain [1] start processing\n",
      "21:40:47 - cmdstanpy - INFO - Chain [1] done processing\n"
     ]
    }
   ],
   "source": [
    "#Variavel Vazia para receber o resultado da Predição\n",
    "base=[]\n",
    "\n",
    "#for para percorrer todas as linhas da base selecionada / Definição de Variaveis para Filtros\n",
    "for i in range(len(dfTeste)):#len(dfTeste)\n",
    "\n",
    "     lin=dfTeste.iloc[i]\n",
    "     a=lin['NDO']\n",
    "     b=lin['Dep_Date']\n",
    "     c2=lin['Segment']\n",
    "     c=lin['FlightID']\n",
    "     d=lin['Periodo']\n",
    "     e=lin['Ocupacao']\n",
    "     f=lin['Flts']\n",
    "     g=lin['chave2']\n",
    "     h=lin['Nest']\n",
    "     j=lin['Dest']\n",
    "     k=lin['faixa_horaria']\n",
    "     m=lin['Capture']\n",
    "     n=lin['DOW']\n",
    "     p=lin['Distance']\n",
    "\n",
    "\n",
    "     # print(i)\n",
    "     subdf2=dforiglimpo2.loc[(dforiglimpo2['Dep_Date'].values==b) & (dforiglimpo2['FlightID']==c) & (dforiglimpo2['faixa_horaria']==k)&(dforiglimpo2['Nest']==h)&(dforiglimpo2['NDO']==0)&(dforiglimpo2['DOW']==n)]\n",
    "\n",
    "\n",
    "          #Filtro de linhas que estejam na mesma caracteristica da linha selecionada anteriormente\n",
    "     subdf1=dforiglimpo2.loc[(dforiglimpo2['Dep_Date'].values<=b) & (dforiglimpo2['FlightID']==c) & (dforiglimpo2['faixa_horaria']==k)&(dforiglimpo2['Nest']==h)&(dforiglimpo2['Capture']<=m)&(dforiglimpo2['Finalizado']==1)&(dforiglimpo2['DOW']==n)]\n",
    "          \n",
    "\n",
    "     subdfpred=dforiglimpo2.loc[(dforiglimpo2['chave2'].values==g)&(dforiglimpo2['Capture']<=m)&(dforiglimpo2['DOW']==n)]\n",
    "\n",
    "     subdf1=pd.concat([subdf1,subdfpred])\n",
    "\n",
    "     subdf1=subdf1.sort_values(by = ['Dep_Date','Capture']) \n",
    "\n",
    "     subdf1=subdf1.tail(1000)\n",
    "\n",
    "\n",
    "     subdf1=subdf1['Ocupacao'].cumsum()\n",
    "\n",
    "     try:\n",
    "          subdf1=subdf1.reset_index(drop=True)\n",
    "          subdf1=subdf1.reset_index()\n",
    "          subdf1=pd.DataFrame(subdf1)\n",
    "          subdf1=pd.merge(subdf1,dt_fake, on='index')\n",
    "               # subdf1['data']=subdf1['data'].astype('datetime64')\n",
    "          subdf1.index=subdf1['data']\n",
    "          subdf1=subdf1.drop(columns=['index'])\n",
    "                    #Coleta de dados para imput da base de saida final\n",
    "\n",
    "          subdf1=subdf1[['data','Ocupacao']]\n",
    "          subdf1=subdf1.rename(columns={'data':'ds','Ocupacao':'y'})\n",
    "\n",
    "          subdf1_treino=subdf1.head(int(len(subdf1)*1))\n",
    "          subdf1_teste = subdf1.tail(int(len(subdf1)*0.2)+int(a))\n",
    "\n",
    "          m1=Prophet(growth='linear',\n",
    "          changepoints=None,\n",
    "          n_changepoints=25,\n",
    "          changepoint_range=0.8,\n",
    "          yearly_seasonality='auto',\n",
    "          weekly_seasonality='auto',\n",
    "          daily_seasonality='auto',\n",
    "          holidays=None,\n",
    "          seasonality_mode='multiplicative',\n",
    "          seasonality_prior_scale=10.0,\n",
    "          holidays_prior_scale=10.0,\n",
    "          changepoint_prior_scale=1000,\n",
    "          mcmc_samples=0,\n",
    "          interval_width=0.8,\n",
    "          uncertainty_samples=1000,\n",
    "          stan_backend=None,)\n",
    "          \n",
    "        #seasonality_mode='multiplicative'\n",
    "          m1.fit(subdf1_treino)\n",
    "\n",
    "          datas_predict=m1.make_future_dataframe(periods=a)#len(subdf1_teste)\n",
    "          predict=m1.predict(datas_predict)\n",
    "\n",
    "          t=pd.DataFrame(predict['yhat'])\n",
    "          v2=t.tail(1)\n",
    "          v=t.tail(2).head(1)\n",
    "          previsto=v2-v.values\n",
    "          previsto=previsto['yhat'].values[0]\n",
    "\n",
    "          previsao_real = previsto\n",
    "\n",
    "          prev=previsto\n",
    "\n",
    "          # prev= previsto.aplay(lambda x: 1 if x >1  else x)\n",
    "          \n",
    "\n",
    "     \n",
    "          base.append([g,b,c,k,e,h,a,previsto,subdf2['Ocupacao'].values[0], previsao_real,c2,p,n,len(subdf1)])\n",
    "\n",
    "     except:\n",
    "          base.append([g,b,c,k,e,h,a,0,0,0,c2,p,n,len(subdf1)])\n",
    "\n",
    "     warnings.simplefilter(\"ignore\")\n",
    "\n"
   ]
  },
  {
   "cell_type": "code",
   "execution_count": 85,
   "metadata": {},
   "outputs": [],
   "source": [
    "#Construção de Base para Avaliação do Modelo\n",
    "\n",
    "# teste=dforiglimpo2[dforiglimpo2['NDO']==-1]\n",
    "# teste=teste[['chave2','Ocupacao']]\n",
    "base2=pd.DataFrame(base)\n",
    "base2=base2.rename(columns={0:'chave2',1:'Dep_Date',2:'FlightID',3:'faixa_horaria',4:'Ocupacao',5:'Nest',6:'NDO',7:'Predict',8:'Ocupacao_y',9:'Saida Real Modelo',10:'Segment', 11:'Distance', 12:'DOW', 13:'Linhas_usadas'})\n",
    "\n",
    "# base2=pd.merge(base2,teste,how = 'left',on='chave2')\n",
    "erros2=len(base2[base2['Predict']==0])\n",
    "erros=len(base2[base2['Predict']==0])/len(base2)\n",
    "# base2=base2[base2['Predict']>0]\n",
    "# base2=base2[base2['Ocupacao_y']>0.59]\n",
    "base2['Ocupacao']=base2['Ocupacao']*100\n",
    "base2['Predict']=base2['Predict']*100\n",
    "# base2['Media_Prev']=base2['Media_Prev']*100\n",
    "# base2['Media_Real']=base2['Media_Real']*100\n",
    "# base2['%_entre_medias']=base2['%_entre_medias']*100\n",
    "base2['Ocupacao_y']=base2['Ocupacao_y']*100\n",
    "base2['Predict']=base2['Predict'].apply(lambda x: 100 if x >100  else x)\n",
    "# base2['Assertividade'] = ((base2['Predict']/base2['Ocupacao_y']))\n",
    "base2['Assertividade'] = (base2['Predict']-base2['Ocupacao_y'])\n",
    "# base2['Acuracia'] = base2['Predict']/base2['Rask_y']\n",
    "\n",
    "base2.to_excel(r'C:\\Users\\bruno\\OneDrive\\Área de Trabalho\\Curso Data Expert DNC\\AZUL\\saida_Prophet_02.03.xlsx')"
   ]
  },
  {
   "cell_type": "code",
   "execution_count": 86,
   "metadata": {},
   "outputs": [
    {
     "name": "stdout",
     "output_type": "stream",
     "text": [
      "Valor Total treal -  20573.217650214334\n",
      "% Geral de Assertividade -  52.25770272129445\n",
      "% de linhas com erro de até 10% -  23.193916349809886\n",
      "---------------------------------------------------------------------\n"
     ]
    }
   ],
   "source": [
    "\n",
    "# Media_Previ=base2['Media_Prev'].sum()/len(base2)\n",
    "# Media_Real=base2['Media_Real'].sum()/len(base2)\n",
    "# Percent_entre_medias=Media_Previ/Media_Real\n",
    "prev=base2['Predict'].sum()\n",
    "real=base2['Ocupacao_y'].sum()\n",
    "Assertividade=((prev/real)*100)\n",
    "Assertividade1= base2.loc[(base2['Assertividade']>=-10) &(base2['Assertividade']<=10)] \n",
    "Assertividade2=len(Assertividade1)/len(base2)\n",
    "# print('Media_Previ: ',Media_Previ)\n",
    "# print('Media_Real: ',Media_Real)\n",
    "# print('Percent_entre_medias: ',Percent_entre_medias)\n",
    "\n",
    "\n",
    "# print('Valor total previsto - ',prev)\n",
    "print( 'Valor Total treal - ', real)\n",
    "print('% Geral de Assertividade - ', Assertividade)\n",
    "print( '% de linhas com erro de até 10% - ', Assertividade2*100) \n",
    "print('---------------------------------------------------------------------')\n",
    "# print('Total de linhas avaliadas: ',len(base2))\n",
    "# print('Total de Linhas com erros: ',erros2)\n",
    "# print('% de erros de execução', erros*100)"
   ]
  },
  {
   "cell_type": "code",
   "execution_count": 87,
   "metadata": {},
   "outputs": [
    {
     "data": {
      "image/png": "[encoded data removed]",
      "text/plain": [
       "<Figure size 1008x576 with 1 Axes>"
      ]
     },
     "metadata": {
      "needs_background": "light"
     },
     "output_type": "display_data"
    }
   ],
   "source": [
    "fig=plt.figure(figsize=[14,8])\n",
    "sns.histplot(base2['Assertividade'],bins=80,kde=True)\n",
    "plt.show()"
   ]
  },
  {
   "cell_type": "code",
   "execution_count": 88,
   "metadata": {},
   "outputs": [],
   "source": [
    "# base2.query('Assertividade<-100')"
   ]
  },
  {
   "cell_type": "markdown",
   "metadata": {},
   "source": []
  },
  {
   "cell_type": "code",
   "execution_count": 89,
   "metadata": {},
   "outputs": [],
   "source": [
    "dfbusca = dfTeste.copy()"
   ]
  },
  {
   "cell_type": "code",
   "execution_count": 90,
   "metadata": {},
   "outputs": [
    {
     "data": {
      "text/plain": [
       "array(['2022-08-04CZKUOM21', '2022-08-30HOAXMU15', '2022-08-22HWFXDY17',\n",
       "       '2022-08-31TBMXTY9', '2022-08-14HHZXMU5', '2022-08-03EXKOWY17',\n",
       "       '2022-08-11NZLGYG16', '2022-08-07EXKKND23', '2022-08-05XMUYHY17',\n",
       "       '2022-08-27EXKIVX8', '2022-08-09TBMXMU19', '2022-08-21IZLEXK15',\n",
       "       '2022-08-28XTIXTY20', '2022-08-03KKYEXK5', '2022-08-27TRTEXK5',\n",
       "       '2022-08-18XMUEXK18', '2022-08-18TRTEXK19', '2022-08-19OWYEXK5',\n",
       "       '2022-08-20XTYEXK2', '2022-08-03HWFXDY21', '2022-08-21YKHNLX12',\n",
       "       '2022-08-05NTUEXK11', '2022-08-16XMUEXK8', '2022-08-13EXKKUY12',\n",
       "       '2022-08-18ERCXMU19', '2022-08-31YVOHOA12', '2022-08-29XMUEXK15',\n",
       "       '2022-08-30HWFKLZ8', '2022-08-18TMNXMU15', '2022-08-02XMUEXK7',\n",
       "       '2022-08-16HQKEXK10', '2022-08-28HWFERC22', '2022-08-31XDYEXK9',\n",
       "       '2022-08-29XTIEXK20', '2022-08-05XMUTIF21', '2022-08-27NZLHQO8',\n",
       "       '2022-08-14XMUXUY8', '2022-08-10NVZEXK10', '2022-08-14EXKXZX17',\n",
       "       '2022-08-08HOAIVX5', '2022-08-17XMUTEI15', '2022-08-23RNKHOA3',\n",
       "       '2022-08-14TIFKLZ21', '2022-08-03KSYGSV14', '2022-08-09XMUTBM8',\n",
       "       '2022-08-16XMUTBM21', '2022-08-16NTUXDY10', '2022-08-02KLZXDY8',\n",
       "       '2022-08-05EXKKLZ8', '2022-08-08QQTEXK11', '2022-08-08IEWEXK11',\n",
       "       '2022-08-10IVXUVM12', '2022-08-10XMUEXK6', '2022-08-16XTYLZO11',\n",
       "       '2022-08-17XTYYHY17', '2022-08-04XMUYHY12', '2022-08-01HWFXTS6',\n",
       "       '2022-08-07FWREXK10', '2022-08-02XTIEXK2', '2022-08-13XTYXDY16',\n",
       "       '2022-08-09EXKERC13', '2022-08-09EXKXMU20', '2022-08-02IVXHOA12',\n",
       "       '2022-08-23HWFTBM9', '2022-08-01EXKORH18', '2022-08-26XDYTIF9',\n",
       "       '2022-08-15UVMIVX15', '2022-08-21HWFXTS19', '2022-08-28IEWEXK11',\n",
       "       '2022-08-15ERCEXK15', '2022-08-13ORHEXK13', '2022-08-12IVXMZG22',\n",
       "       '2022-08-08YVONXK12', '2022-08-17IVXNXA20', '2022-08-09XTYLKH12',\n",
       "       '2022-08-09YVONZY13', '2022-08-08EXKILL23', '2022-08-06YVOGFI15',\n",
       "       '2022-08-20KLZMEG9', '2022-08-09XZXEXK10', '2022-08-16HWFXMU19',\n",
       "       '2022-08-15ERCXMU8', '2022-08-27TIFXMU11', '2022-08-20IZLEXK7',\n",
       "       '2022-08-26XMUXDY8', '2022-08-11XTSHWF15', '2022-08-29IVXXMU12',\n",
       "       '2022-08-02KLZXDY19', '2022-08-30EWXXMU19', '2022-08-10MZGIVX10',\n",
       "       '2022-08-17YHYEXK14', '2022-08-28XTYTIF14', '2022-08-09XMUHWF17',\n",
       "       '2022-08-30ZKFXDY15', '2022-08-26XDYKGL13', '2022-08-07XMUEXK17',\n",
       "       '2022-08-08EXKHWF6', '2022-08-04XTSXMU14', '2022-08-24EXKMEG8',\n",
       "       '2022-08-22XZXEXK19', '2022-08-02HOAXMU15', '2022-08-31YHYXMU6',\n",
       "       '2022-08-15ULIEXK17', '2022-08-09EXKHWF21', '2022-08-02EXKCZK17',\n",
       "       '2022-08-22XMUYHY14', '2022-08-10ERCXMU14', '2022-08-05YVOXPH15',\n",
       "       '2022-08-06KLZXMU17', '2022-08-03FYZEXK5', '2022-08-28EXKHWF18',\n",
       "       '2022-08-14FWRIVX7', '2022-08-21XDYNTU13', '2022-08-26QKZIVX16',\n",
       "       '2022-08-19FWREXK20', '2022-08-26YHYXMU19', '2022-08-29XMUEWX10',\n",
       "       '2022-08-19EXKIEW8', '2022-08-25QGXEXK5', '2022-08-04IVXEXK17',\n",
       "       '2022-08-14HHZEWX17', '2022-08-17QRZXTY8', '2022-08-31LYRNGV12',\n",
       "       '2022-08-05HHZIVX6', '2022-08-03UOOEXK20', '2022-08-25HHZXMU11',\n",
       "       '2022-08-09NZLHGN20', '2022-08-07RTFEXK11', '2022-08-14HWFEXK19',\n",
       "       '2022-08-28KKYEXK5', '2022-08-23EXKIZL21', '2022-08-12XTYEXK8',\n",
       "       '2022-08-14IVXGSV22', '2022-08-30FYZEXK5', '2022-08-05RKMXMU15',\n",
       "       '2022-08-03TTYXTY20', '2022-08-28EXKZQF23', '2022-08-14EXKHWF9',\n",
       "       '2022-08-24KLZIRZ15', '2022-08-10TIFIVX8', '2022-08-28EXKRTF8',\n",
       "       '2022-08-12EXKUOO23', '2022-08-22EXKOWY22', '2022-08-26XTYEXK2',\n",
       "       '2022-08-02IVXMZG11', '2022-08-06ZUOXTY13', '2022-08-02XTYEXK2',\n",
       "       '2022-08-30EXKXMU12', '2022-08-17EXKKSY10', '2022-08-05EXKKKY12',\n",
       "       '2022-08-17HWFHHZ22', '2022-08-10HWFXMU19', '2022-08-26ORHEXK14',\n",
       "       '2022-08-20EXKHWF13', '2022-08-28HWFEXK13', '2022-08-09MZGIVX10',\n",
       "       '2022-08-26KLZEXK12', '2022-08-22YHYHWF6', '2022-08-24XMUHWF21',\n",
       "       '2022-08-22HWFEXK13', '2022-08-20NEWKLZ15', '2022-08-19TBMXMU15',\n",
       "       '2022-08-27XMUFMZ15', '2022-08-27NXAEXK17', '2022-08-22XTYTBM6',\n",
       "       '2022-08-14KMAIVX20', '2022-08-05XMUHWF18', '2022-08-11NVZEXK19',\n",
       "       '2022-08-19EWXHHZ12', '2022-08-15UOMCZK20', '2022-08-24XMUEXK19',\n",
       "       '2022-08-05KRMNZL13', '2022-08-19EXKHQK8', '2022-08-11IVXXTS13',\n",
       "       '2022-08-02EXKKKY8', '2022-08-14XMUXTS8', '2022-08-07XMUYVO8',\n",
       "       '2022-08-08HWFKLZ8', '2022-08-18YHYEXK10', '2022-08-31FYZXMU14',\n",
       "       '2022-08-01NXAIVX14', '2022-08-18XMUERC6', '2022-08-17ERCIVX5',\n",
       "       '2022-08-01IZLXMU5', '2022-08-31HWFXTS6', '2022-08-19NTUEXK11',\n",
       "       '2022-08-23MEGEXK15', '2022-08-26ULIYVO9', '2022-08-09TIFXDY16',\n",
       "       '2022-08-24EXKTBM23', '2022-08-03XDYXTY21', '2022-08-28IVXNZL22',\n",
       "       '2022-08-22HWFEXK8', '2022-08-08XMURLH11', '2022-08-11XTSIVX12',\n",
       "       '2022-08-24XZXXDY20', '2022-08-03HWFYHY17', '2022-08-12ULIIVX10',\n",
       "       '2022-08-07RTFXDY20', '2022-08-17HGNYVO14', '2022-08-09QKZEXK3',\n",
       "       '2022-08-28EXKERC22', '2022-08-06EXKFWR14', '2022-08-22HQKEXK5',\n",
       "       '2022-08-02XTYLKH23', '2022-08-03YKHXMU12', '2022-08-12XMUYHY12',\n",
       "       '2022-08-18KLZEXK14', '2022-08-25UOMEXK19', '2022-08-22KESNZL5',\n",
       "       '2022-08-23ERCEXK19', '2022-08-15XMUFMZ13', '2022-08-06XDYNTU10',\n",
       "       '2022-08-18EXKUOM23', '2022-08-27XDYKLZ7', '2022-08-31XRANZL16',\n",
       "       '2022-08-09HWFXTS10', '2022-08-17XMUTBM17', '2022-08-24HHZXTS11',\n",
       "       '2022-08-26OWYXDY10', '2022-08-30XTYLKH12', '2022-08-06XMUXDY8',\n",
       "       '2022-08-10EXKTKY12', '2022-08-29JTKIVX12', '2022-08-07EXKILL23',\n",
       "       '2022-08-27XTSXMU6', '2022-08-17XDYKLZ21', '2022-08-29TBMXTY21',\n",
       "       '2022-08-12NTUXDY10', '2022-08-08OWYEXK5', '2022-08-12XDYNTU17',\n",
       "       '2022-08-09UOMEXK5', '2022-08-31EXKUOM9', '2022-08-12QLREXK10',\n",
       "       '2022-08-20KLZNEW12', '2022-08-16LKHEXK1', '2022-08-24UOOEXK20',\n",
       "       '2022-08-14EXKXCQ12', '2022-08-27XMUNXA21', '2022-08-05EXKIVX6',\n",
       "       '2022-08-28EXKTRT7', '2022-08-22IVXTIF15', '2022-08-28HWFEXK6',\n",
       "       '2022-08-31XTYXMU16', '2022-08-25YVONVF8', '2022-08-15LZOXTY14',\n",
       "       '2022-08-06QKZEXK16', '2022-08-26EXKXTY14', '2022-08-22EXKYHY11',\n",
       "       '2022-08-30LKKYVO14', '2022-08-24IVXZQF8', '2022-08-12ERCHWF6',\n",
       "       '2022-08-28GFIYVO4', '2022-08-29OWYXDY15', '2022-08-18HWFXMU11',\n",
       "       '2022-08-11YHYXMU10', '2022-08-18ZQFIVX10', '2022-08-14YVONXK2',\n",
       "       '2022-08-01EXKQLR17', '2022-08-13XMUERC21', '2022-08-17YZANZL9',\n",
       "       '2022-08-08KLZQYH9'], dtype=object)"
      ]
     },
     "execution_count": 90,
     "metadata": {},
     "output_type": "execute_result"
    }
   ],
   "source": [
    "dfbusca['chave2'].unique()"
   ]
  },
  {
   "cell_type": "code",
   "execution_count": 91,
   "metadata": {},
   "outputs": [],
   "source": [
    "#Variavel Vazia para receber o resultado da Predição\n",
    "basex=[]\n",
    "\n",
    "#for para percorrer todas as linhas da base selecionada / Definição de Variaveis para Filtros\n",
    "# for i in range(len(dfTeste)):#len(dfTeste)\n",
    "\n",
    "dfbusca.index=dfbusca['chave2']  \n",
    "\n",
    "# dd=dfbusca['chave2'].#.sample(1)\n",
    "# dd=dd[0]\n",
    "\n",
    "lin=dfbusca.loc['2022-08-24HHZXTS11']\n",
    "a=lin['NDO']\n",
    "b=lin['Dep_Date']\n",
    "# c=lin['Segment']\n",
    "c=lin['FlightID']\n",
    "d=lin['Periodo']\n",
    "e=lin['Ocupacao']\n",
    "f=lin['Flts']\n",
    "g=lin['chave2']\n",
    "h=lin['Nest']\n",
    "j=lin['Dest']\n",
    "k=lin['faixa_horaria']\n",
    "m=lin['Capture']\n",
    "n=lin['DOW']\n",
    "\n",
    "\n",
    "     # print(i)\n",
    "subdf2=dforiglimpo2.loc[(dforiglimpo2['Dep_Date'].values==b) & (dforiglimpo2['FlightID']==c) & (dforiglimpo2['faixa_horaria']==k)&(dforiglimpo2['Nest']==h)&(dforiglimpo2['NDO']==0)&(dforiglimpo2['DOW']==n)]\n",
    "\n",
    "\n",
    "     #Filtro de linhas que estejam na mesma caracteristica da linha selecionada anteriormente\n",
    "subdf1=dforiglimpo2.loc[(dforiglimpo2['Dep_Date'].values<=b) & (dforiglimpo2['FlightID']==c) & (dforiglimpo2['faixa_horaria']==k)&(dforiglimpo2['Nest']==h)&(dforiglimpo2['Capture']<=m)&(dforiglimpo2['Finalizado']==1)&(dforiglimpo2['DOW']==n)]\n",
    "      \n",
    "\n",
    "subdfpred=dforiglimpo2.loc[(dforiglimpo2['chave2'].values==g)&(dforiglimpo2['Capture']<=m)&(dforiglimpo2['DOW']==n)]\n",
    "\n",
    "subdf1=pd.concat([subdf1,subdfpred])\n",
    "\n",
    "subdf1=subdf1.sort_values(by = ['Dep_Date','Capture']) \n",
    "\n",
    "subdf1=subdf1.tail(2500)\n",
    "\n",
    "\n",
    "subdf1=subdf1['Ocupacao'].cumsum()\n",
    "\n",
    "\n",
    "subdf1=subdf1.reset_index(drop=True)\n",
    "subdf1=subdf1.reset_index()\n",
    "subdf1=pd.DataFrame(subdf1)\n",
    "subdf1=pd.merge(subdf1,dt_fake, on='index')\n",
    "     # subdf1['data']=subdf1['data'].astype('datetime64')\n",
    "subdf1.index=subdf1['data']\n",
    "subdf1=subdf1.drop(columns=['index'])\n",
    "# subdf1=subdf1.drop(columns=['data'])\n",
    "\n",
    "# subdf1=subdf1.query('Ocupacao>-0.4')\n",
    "\n"
   ]
  },
  {
   "cell_type": "code",
   "execution_count": 92,
   "metadata": {},
   "outputs": [],
   "source": [
    "subdf1=subdf1[['data','Ocupacao']]\n",
    "subdf1=subdf1.rename(columns={'data':'ds','Ocupacao':'y'})\n",
    "\n",
    "subdf1_treino=subdf1.head(int(len(subdf1)*1))\n",
    "subdf1_teste = subdf1.tail(int(len(subdf1)*0.2)+int(a))"
   ]
  },
  {
   "cell_type": "code",
   "execution_count": 93,
   "metadata": {},
   "outputs": [
    {
     "name": "stderr",
     "output_type": "stream",
     "text": [
      "21:40:51 - cmdstanpy - INFO - Chain [1] start processing\n",
      "21:40:52 - cmdstanpy - INFO - Chain [1] done processing\n"
     ]
    },
    {
     "data": {
      "text/plain": [
       "<prophet.forecaster.Prophet at 0x1b21d63b640>"
      ]
     },
     "execution_count": 93,
     "metadata": {},
     "output_type": "execute_result"
    }
   ],
   "source": [
    "m1=Prophet(growth='linear',\n",
    "    changepoints=None,\n",
    "    n_changepoints=25,\n",
    "    changepoint_range=0.8,\n",
    "    yearly_seasonality='auto',\n",
    "    weekly_seasonality='auto',\n",
    "    daily_seasonality='auto',\n",
    "    holidays=None,\n",
    "    seasonality_mode='multiplicative',\n",
    "    seasonality_prior_scale=10.0,\n",
    "    holidays_prior_scale=10.0,\n",
    "    changepoint_prior_scale=1000,\n",
    "    mcmc_samples=0,\n",
    "    interval_width=0.8,\n",
    "    uncertainty_samples=1000,\n",
    "    stan_backend=None,\n",
    ")\n",
    "        #seasonality_mode='multiplicative'\n",
    "m1.fit(subdf1_treino)\n",
    "\n",
    "\n",
    "\n"
   ]
  },
  {
   "cell_type": "code",
   "execution_count": 94,
   "metadata": {},
   "outputs": [],
   "source": [
    "datas_predict=m1.make_future_dataframe(periods=a)#len(subdf1_teste)\n",
    "predict=m1.predict(datas_predict)"
   ]
  },
  {
   "cell_type": "code",
   "execution_count": 95,
   "metadata": {},
   "outputs": [
    {
     "data": {
      "text/plain": [
       "(1821, 1780, 42)"
      ]
     },
     "execution_count": 95,
     "metadata": {},
     "output_type": "execute_result"
    }
   ],
   "source": [
    "len(datas_predict), len(subdf1),a"
   ]
  },
  {
   "cell_type": "code",
   "execution_count": 96,
   "metadata": {},
   "outputs": [],
   "source": [
    "predict=predict[['ds', 'yhat', 'yhat_lower', 'yhat_upper']]\n",
    "x=predict['ds']\n",
    "y=predict['yhat']\n",
    "\n"
   ]
  },
  {
   "cell_type": "code",
   "execution_count": 97,
   "metadata": {},
   "outputs": [
    {
     "data": {
      "text/plain": [
       "<AxesSubplot:xlabel='data'>"
      ]
     },
     "execution_count": 97,
     "metadata": {},
     "output_type": "execute_result"
    },
    {
     "data": {
      "image/png": "[encoded data removed]",
      "text/plain": [
       "<Figure size 432x288 with 1 Axes>"
      ]
     },
     "metadata": {
      "needs_background": "light"
     },
     "output_type": "display_data"
    }
   ],
   "source": [
    "subdf1['y'].plot()"
   ]
  },
  {
   "cell_type": "code",
   "execution_count": 98,
   "metadata": {},
   "outputs": [
    {
     "data": {
      "text/plain": [
       "<AxesSubplot:>"
      ]
     },
     "execution_count": 98,
     "metadata": {},
     "output_type": "execute_result"
    },
    {
     "data": {
      "image/png": "[encoded data removed]",
      "text/plain": [
       "<Figure size 432x288 with 1 Axes>"
      ]
     },
     "metadata": {
      "needs_background": "light"
     },
     "output_type": "display_data"
    }
   ],
   "source": [
    "\n",
    "y.plot()"
   ]
  },
  {
   "cell_type": "code",
   "execution_count": 99,
   "metadata": {},
   "outputs": [
    {
     "data": {
      "image/png": "[encoded data removed]",
      "text/plain": [
       "<Figure size 1728x576 with 1 Axes>"
      ]
     },
     "metadata": {
      "needs_background": "light"
     },
     "output_type": "display_data"
    }
   ],
   "source": [
    "fig=plt.figure(figsize=[24,8])\n",
    "\n",
    "plt.plot(x,y,color='red',label='Predict')\n",
    "plt.plot(subdf1['ds'], subdf1['y'], color='blue', label='real')\n",
    "plt.legend()\n",
    "plt.show()"
   ]
  },
  {
   "cell_type": "code",
   "execution_count": 100,
   "metadata": {},
   "outputs": [],
   "source": [
    "teste=dforiglimpo2[dforiglimpo2['NDO']==-1]\n",
    "teste=teste[['chave2','Ocupacao']]\n",
    "real=teste.loc[(teste['chave2']==g)]\n",
    "\n",
    "t=pd.DataFrame(y)\n",
    "v2=t.tail(1)\n",
    "v=y.tail(2).head(1)\n",
    "previsto=v2-v.values\n"
   ]
  },
  {
   "cell_type": "code",
   "execution_count": 101,
   "metadata": {},
   "outputs": [
    {
     "data": {
      "text/plain": [
       "(42, array([0.83333333]), array([[0.72474591]]), 1780)"
      ]
     },
     "execution_count": 101,
     "metadata": {},
     "output_type": "execute_result"
    }
   ],
   "source": [
    "a, real['Ocupacao'].values,previsto.values,len(subdf1_treino)"
   ]
  },
  {
   "cell_type": "code",
   "execution_count": 102,
   "metadata": {},
   "outputs": [
    {
     "data": {
      "text/plain": [
       "<AxesSubplot:>"
      ]
     },
     "execution_count": 102,
     "metadata": {},
     "output_type": "execute_result"
    },
    {
     "data": {
      "image/png": "[encoded data removed]",
      "text/plain": [
       "<Figure size 432x288 with 1 Axes>"
      ]
     },
     "metadata": {
      "needs_background": "light"
     },
     "output_type": "display_data"
    }
   ],
   "source": [
    "t=t.diff()\n",
    "t=t.tail(50)\n",
    "t.plot()\n"
   ]
  },
  {
   "cell_type": "code",
   "execution_count": 103,
   "metadata": {},
   "outputs": [
    {
     "ename": "ValueError",
     "evalue": "Can only compare identically-labeled Series objects",
     "output_type": "error",
     "traceback": [
      "\u001b[1;31m---------------------------------------------------------------------------\u001b[0m",
      "\u001b[1;31mValueError\u001b[0m                                Traceback (most recent call last)",
      "\u001b[1;32mc:\\Users\\bruno\\OneDrive\\Área de Trabalho\\Curso Data Expert DNC\\AZUL\\Projeto_Azul - Modelo Serie temporal 27.02 - prophet.ipynb Célula 45\u001b[0m in \u001b[0;36m<cell line: 18>\u001b[1;34m()\u001b[0m\n\u001b[0;32m     <a href='vscode-notebook-cell:/c%3A/Users/bruno/OneDrive/%C3%81rea%20de%20Trabalho/Curso%20Data%20Expert%20DNC/AZUL/Projeto_Azul%20-%20Modelo%20Serie%20temporal%2027.02%20-%20prophet.ipynb#X62sZmlsZQ%3D%3D?line=13'>14</a>\u001b[0m k\u001b[39m=\u001b[39mlin[\u001b[39m'\u001b[39m\u001b[39mDOW\u001b[39m\u001b[39m'\u001b[39m]\n\u001b[0;32m     <a href='vscode-notebook-cell:/c%3A/Users/bruno/OneDrive/%C3%81rea%20de%20Trabalho/Curso%20Data%20Expert%20DNC/AZUL/Projeto_Azul%20-%20Modelo%20Serie%20temporal%2027.02%20-%20prophet.ipynb#X62sZmlsZQ%3D%3D?line=14'>15</a>\u001b[0m m\u001b[39m=\u001b[39mlin[\u001b[39m'\u001b[39m\u001b[39mCapture\u001b[39m\u001b[39m'\u001b[39m]\n\u001b[1;32m---> <a href='vscode-notebook-cell:/c%3A/Users/bruno/OneDrive/%C3%81rea%20de%20Trabalho/Curso%20Data%20Expert%20DNC/AZUL/Projeto_Azul%20-%20Modelo%20Serie%20temporal%2027.02%20-%20prophet.ipynb#X62sZmlsZQ%3D%3D?line=17'>18</a>\u001b[0m subdf1\u001b[39m=\u001b[39mdforiglimpo2\u001b[39m.\u001b[39mloc[(dforiglimpo2[\u001b[39m'\u001b[39;49m\u001b[39mNDO\u001b[39;49m\u001b[39m'\u001b[39;49m]\u001b[39m==\u001b[39;49ma) \u001b[39m&\u001b[39m (dforiglimpo2[\u001b[39m'\u001b[39m\u001b[39mDep_Date\u001b[39m\u001b[39m'\u001b[39m]\u001b[39m.\u001b[39mvalues\u001b[39m<\u001b[39m\u001b[39m=\u001b[39mb) \u001b[39m&\u001b[39m (dforiglimpo2[\u001b[39m'\u001b[39m\u001b[39mFlightID\u001b[39m\u001b[39m'\u001b[39m]\u001b[39m==\u001b[39mc) \u001b[39m&\u001b[39m\n\u001b[0;32m     <a href='vscode-notebook-cell:/c%3A/Users/bruno/OneDrive/%C3%81rea%20de%20Trabalho/Curso%20Data%20Expert%20DNC/AZUL/Projeto_Azul%20-%20Modelo%20Serie%20temporal%2027.02%20-%20prophet.ipynb#X62sZmlsZQ%3D%3D?line=18'>19</a>\u001b[0m       (dforiglimpo2[\u001b[39m'\u001b[39m\u001b[39mPeriodo\u001b[39m\u001b[39m'\u001b[39m]\u001b[39m==\u001b[39md)\u001b[39m&\u001b[39m(dforiglimpo2[\u001b[39m'\u001b[39m\u001b[39mNest\u001b[39m\u001b[39m'\u001b[39m]\u001b[39m==\u001b[39mh)\u001b[39m&\u001b[39m(dforiglimpo2[\u001b[39m'\u001b[39m\u001b[39mCapture\u001b[39m\u001b[39m'\u001b[39m]\u001b[39m<\u001b[39m\u001b[39m=\u001b[39mm)\u001b[39m&\u001b[39m(dforiglimpo2[\u001b[39m'\u001b[39m\u001b[39mFinalizado\u001b[39m\u001b[39m'\u001b[39m]\u001b[39m==\u001b[39m\u001b[39m1\u001b[39m)]\u001b[39m#&(dforiginal2['DOW']==k)]\u001b[39;00m\n\u001b[0;32m     <a href='vscode-notebook-cell:/c%3A/Users/bruno/OneDrive/%C3%81rea%20de%20Trabalho/Curso%20Data%20Expert%20DNC/AZUL/Projeto_Azul%20-%20Modelo%20Serie%20temporal%2027.02%20-%20prophet.ipynb#X62sZmlsZQ%3D%3D?line=20'>21</a>\u001b[0m subdfpred\u001b[39m=\u001b[39mdforiglimpo2\u001b[39m.\u001b[39mloc[(dforiglimpo2[\u001b[39m'\u001b[39m\u001b[39mchave2\u001b[39m\u001b[39m'\u001b[39m]\u001b[39m.\u001b[39mvalues\u001b[39m==\u001b[39mg)\u001b[39m&\u001b[39m(dforiglimpo2[\u001b[39m'\u001b[39m\u001b[39mCapture\u001b[39m\u001b[39m'\u001b[39m]\u001b[39m==\u001b[39mm)]\n\u001b[0;32m     <a href='vscode-notebook-cell:/c%3A/Users/bruno/OneDrive/%C3%81rea%20de%20Trabalho/Curso%20Data%20Expert%20DNC/AZUL/Projeto_Azul%20-%20Modelo%20Serie%20temporal%2027.02%20-%20prophet.ipynb#X62sZmlsZQ%3D%3D?line=22'>23</a>\u001b[0m      \u001b[39m# subdf1=pd.concat([subdfpred,subdf1])\u001b[39;00m\n\u001b[0;32m     <a href='vscode-notebook-cell:/c%3A/Users/bruno/OneDrive/%C3%81rea%20de%20Trabalho/Curso%20Data%20Expert%20DNC/AZUL/Projeto_Azul%20-%20Modelo%20Serie%20temporal%2027.02%20-%20prophet.ipynb#X62sZmlsZQ%3D%3D?line=23'>24</a>\u001b[0m \n\u001b[0;32m     <a href='vscode-notebook-cell:/c%3A/Users/bruno/OneDrive/%C3%81rea%20de%20Trabalho/Curso%20Data%20Expert%20DNC/AZUL/Projeto_Azul%20-%20Modelo%20Serie%20temporal%2027.02%20-%20prophet.ipynb#X62sZmlsZQ%3D%3D?line=24'>25</a>\u001b[0m      \u001b[39m#Filtro de linhas que tenham a mesma caracteristica da linha selecionada anteriormente, porem com NDO = Zero\u001b[39;00m\n",
      "File \u001b[1;32mc:\\Users\\bruno\\AppData\\Local\\Programs\\Python\\Python310\\lib\\site-packages\\pandas\\core\\ops\\common.py:70\u001b[0m, in \u001b[0;36m_unpack_zerodim_and_defer.<locals>.new_method\u001b[1;34m(self, other)\u001b[0m\n\u001b[0;32m     66\u001b[0m             \u001b[39mreturn\u001b[39;00m \u001b[39mNotImplemented\u001b[39m\n\u001b[0;32m     68\u001b[0m other \u001b[39m=\u001b[39m item_from_zerodim(other)\n\u001b[1;32m---> 70\u001b[0m \u001b[39mreturn\u001b[39;00m method(\u001b[39mself\u001b[39;49m, other)\n",
      "File \u001b[1;32mc:\\Users\\bruno\\AppData\\Local\\Programs\\Python\\Python310\\lib\\site-packages\\pandas\\core\\arraylike.py:40\u001b[0m, in \u001b[0;36mOpsMixin.__eq__\u001b[1;34m(self, other)\u001b[0m\n\u001b[0;32m     38\u001b[0m \u001b[39m@unpack_zerodim_and_defer\u001b[39m(\u001b[39m\"\u001b[39m\u001b[39m__eq__\u001b[39m\u001b[39m\"\u001b[39m)\n\u001b[0;32m     39\u001b[0m \u001b[39mdef\u001b[39;00m \u001b[39m__eq__\u001b[39m(\u001b[39mself\u001b[39m, other):\n\u001b[1;32m---> 40\u001b[0m     \u001b[39mreturn\u001b[39;00m \u001b[39mself\u001b[39;49m\u001b[39m.\u001b[39;49m_cmp_method(other, operator\u001b[39m.\u001b[39;49meq)\n",
      "File \u001b[1;32mc:\\Users\\bruno\\AppData\\Local\\Programs\\Python\\Python310\\lib\\site-packages\\pandas\\core\\series.py:5617\u001b[0m, in \u001b[0;36mSeries._cmp_method\u001b[1;34m(self, other, op)\u001b[0m\n\u001b[0;32m   5614\u001b[0m res_name \u001b[39m=\u001b[39m ops\u001b[39m.\u001b[39mget_op_result_name(\u001b[39mself\u001b[39m, other)\n\u001b[0;32m   5616\u001b[0m \u001b[39mif\u001b[39;00m \u001b[39misinstance\u001b[39m(other, Series) \u001b[39mand\u001b[39;00m \u001b[39mnot\u001b[39;00m \u001b[39mself\u001b[39m\u001b[39m.\u001b[39m_indexed_same(other):\n\u001b[1;32m-> 5617\u001b[0m     \u001b[39mraise\u001b[39;00m \u001b[39mValueError\u001b[39;00m(\u001b[39m\"\u001b[39m\u001b[39mCan only compare identically-labeled Series objects\u001b[39m\u001b[39m\"\u001b[39m)\n\u001b[0;32m   5619\u001b[0m lvalues \u001b[39m=\u001b[39m \u001b[39mself\u001b[39m\u001b[39m.\u001b[39m_values\n\u001b[0;32m   5620\u001b[0m rvalues \u001b[39m=\u001b[39m extract_array(other, extract_numpy\u001b[39m=\u001b[39m\u001b[39mTrue\u001b[39;00m, extract_range\u001b[39m=\u001b[39m\u001b[39mTrue\u001b[39;00m)\n",
      "\u001b[1;31mValueError\u001b[0m: Can only compare identically-labeled Series objects"
     ]
    }
   ],
   "source": [
    "lin=dfTeste.loc[(dfTeste['chave2']=='2022-08-23HWFXMU10')]\n",
    "# lin=dfTeste.iloc[1]\n",
    "lin=lin.squeeze()\n",
    "a=lin['NDO']\n",
    "b=lin['Dep_Date']\n",
    "# c=lin['Segment']\n",
    "c=lin['FlightID']\n",
    "d=lin['Periodo']\n",
    "e=lin['Ocupacao']\n",
    "f=lin['Flts']\n",
    "g=lin['chave2']\n",
    "h=lin['Nest']\n",
    "j=lin['Dest']\n",
    "k=lin['DOW']\n",
    "m=lin['Capture']\n",
    "\n",
    "\n",
    "subdf1=dforiglimpo2.loc[(dforiglimpo2['NDO']==a) & (dforiglimpo2['Dep_Date'].values<=b) & (dforiglimpo2['FlightID']==c) &\n",
    "      (dforiglimpo2['Periodo']==d)&(dforiglimpo2['Nest']==h)&(dforiglimpo2['Capture']<=m)&(dforiglimpo2['Finalizado']==1)]#&(dforiginal2['DOW']==k)]\n",
    "\n",
    "subdfpred=dforiglimpo2.loc[(dforiglimpo2['chave2'].values==g)&(dforiglimpo2['Capture']==m)]\n",
    "\n",
    "     # subdf1=pd.concat([subdfpred,subdf1])\n",
    "\n",
    "     #Filtro de linhas que tenham a mesma caracteristica da linha selecionada anteriormente, porem com NDO = Zero\n",
    "subdf2=dforiglimpo2.loc[(dforiglimpo2['NDO']==-1) & (dforiglimpo2['Dep_Date'].values<b) & (dforiglimpo2['FlightID']==c) & (dforiglimpo2['Periodo']==d)&(dforiglimpo2['Nest']==h)]#&(dforiginal2['DOW']==k)]\n",
    "y=subdf2[['chave2','Ocupacao']]\n",
    "\n",
    "     #Merge das informações / contrução da Base de Treino\n",
    "\n",
    "subdf3=pd.merge(subdf1,y,how='left',on='chave2')\n",
    "\n",
    "subdf3=subdf3.drop(columns=['Flts', 'Rask','Dest','Capture'])\n",
    "subdfpred = subdfpred.drop(columns=['Flts', 'Rask','Dest','Capture'])\n",
    "subdfpred['Ocupacao_y']=0\n",
    "subdfpred = subdfpred.set_index('chave2')\n",
    "\n",
    "subdf3=subdf3.set_index('chave2')\n",
    "subdf3=subdf3.sort_values(by ='Dep_Date')\n",
    "subdf3.tail(50)\n"
   ]
  }
 ],
 "metadata": {
  "kernelspec": {
   "display_name": "Python 3.10.4 64-bit",
   "language": "python",
   "name": "python3"
  },
  "language_info": {
   "codemirror_mode": {
    "name": "ipython",
    "version": 3
   },
   "file_extension": ".py",
   "mimetype": "text/x-python",
   "name": "python",
   "nbconvert_exporter": "python",
   "pygments_lexer": "ipython3",
   "version": "3.10.4"
  },
  "orig_nbformat": 4,
  "vscode": {
   "interpreter": {
    "hash": "ed3943dba37f3ed717092a780584c496f36863d6c99891baccd6632ecc02cdda"
   }
  }
 },
 "nbformat": 4,
 "nbformat_minor": 2
}
